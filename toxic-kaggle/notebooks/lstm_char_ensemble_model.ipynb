{
 "cells": [
  {
   "cell_type": "code",
   "execution_count": 1,
   "metadata": {},
   "outputs": [
    {
     "name": "stderr",
     "output_type": "stream",
     "text": [
      "/usr/local/lib/python3.5/dist-packages/h5py/__init__.py:36: FutureWarning: Conversion of the second argument of issubdtype from `float` to `np.floating` is deprecated. In future, it will be treated as `np.float64 == np.dtype(float).type`.\n",
      "  from ._conv import register_converters as _register_converters\n",
      "Using TensorFlow backend.\n"
     ]
    }
   ],
   "source": [
    "import logging\n",
    "import pickle\n",
    "from sklearn import metrics\n",
    "from sklearn.metrics import f1_score\n",
    "import keras\n",
    "from keras.models import Model, Sequential\n",
    "from keras.layers import *\n",
    "from keras.preprocessing.text import one_hot\n",
    "from keras.optimizers import Adam\n",
    "from tqdm import tnrange, tqdm_notebook\n",
    "from keras.layers.advanced_activations import LeakyReLU\n",
    "from keras.preprocessing.sequence import pad_sequences\n",
    "from keras.preprocessing.text import Tokenizer\n",
    "from sklearn.utils import class_weight\n",
    "from keras.callbacks import *"
   ]
  },
  {
   "cell_type": "code",
   "execution_count": 2,
   "metadata": {},
   "outputs": [],
   "source": [
    "import gensim"
   ]
  },
  {
   "cell_type": "code",
   "execution_count": 3,
   "metadata": {},
   "outputs": [],
   "source": [
    "import tensorflow as tf\n",
    "from keras.backend.tensorflow_backend import set_session\n",
    "config = tf.ConfigProto()\n",
    "config.gpu_options.per_process_gpu_memory_fraction = 0.1\n",
    "set_session(tf.Session(config=config))"
   ]
  },
  {
   "cell_type": "code",
   "execution_count": 4,
   "metadata": {},
   "outputs": [],
   "source": [
    "MODEL_PATH = \"../models/\""
   ]
  },
  {
   "cell_type": "code",
   "execution_count": 5,
   "metadata": {},
   "outputs": [],
   "source": [
    "DATA_PATH = \"../data/\"\n",
    "X_train = pickle.load(open(DATA_PATH + \"X_train.p\", \"rb\"))\n",
    "X_dev = pickle.load(open(DATA_PATH + \"X_dev.p\", \"rb\"))\n",
    "y_train = pickle.load(open(DATA_PATH + \"y_train.p\", \"rb\"))\n",
    "y_dev = pickle.load(open(DATA_PATH + \"y_dev.p\", \"rb\"))"
   ]
  },
  {
   "cell_type": "code",
   "execution_count": 6,
   "metadata": {},
   "outputs": [
    {
     "data": {
      "text/plain": [
       "(111699, 6)"
      ]
     },
     "execution_count": 6,
     "metadata": {},
     "output_type": "execute_result"
    }
   ],
   "source": [
    "y_train.shape"
   ]
  },
  {
   "cell_type": "code",
   "execution_count": 7,
   "metadata": {},
   "outputs": [],
   "source": [
    "train_text = X_train['comment_text']"
   ]
  },
  {
   "cell_type": "code",
   "execution_count": 10,
   "metadata": {},
   "outputs": [],
   "source": [
    "tokenizer = Tokenizer(num_words=18400, char_level=True, oov_token = 0)\n",
    "tokenizer.fit_on_texts(train_text)\n",
    "sequences = tokenizer.texts_to_sequences(train_text)"
   ]
  },
  {
   "cell_type": "code",
   "execution_count": 15,
   "metadata": {},
   "outputs": [],
   "source": [
    "char_index = tokenizer.word_index"
   ]
  },
  {
   "cell_type": "code",
   "execution_count": 41,
   "metadata": {},
   "outputs": [],
   "source": [
    "embeddings_index = {}\n",
    "f = open(\"../../../embeddings/pretrained_character_embeddings.txt\")\n",
    "for line in f:\n",
    "    if line[0] != ' ':\n",
    "        values = line.split()\n",
    "        word = values[0]\n",
    "        coefs = np.asarray(values[1:], dtype='float32')\n",
    "    else:\n",
    "        values = line.split()\n",
    "        word = ' '\n",
    "        coefs = np.asarray(values, dtype='float32')\n",
    "    embeddings_index[word] = coefs\n",
    "f.close()\n",
    "embeddings_index['\\n'] = embeddings_index.pop('\\\\n')"
   ]
  },
  {
   "cell_type": "code",
   "execution_count": 42,
   "metadata": {},
   "outputs": [
    {
     "data": {
      "text/plain": [
       "dict_keys(['#', ']', '-', '{', 'O', '[', '/', 'S', 'l', '?', '$', 'x', '~', 'm', 't', 'I', 'b', 'F', 'h', 'Y', 'n', '\"', 'U', ',', 'g', '0', 'k', 'T', '+', 'p', '!', 'y', 'Z', 's', 'N', '6', '5', '4', 'f', '\\n', '1', '3', 'o', '8', 'q', 'V', '9', '}', 'C', 'e', '@', 'X', '7', 'c', 'w', 'L', '^', 'i', 'j', 'a', '2', \"'\", '&', 'R', 'E', 'r', ' ', '*', 'd', 'H', 'Q', 'z', ';', 'W', ')', 'D', 'A', 'v', 'G', '_', '|', 'K', 'J', 'M', '.', ':', '%', 'u', 'B', '(', 'P'])"
      ]
     },
     "execution_count": 42,
     "metadata": {},
     "output_type": "execute_result"
    }
   ],
   "source": [
    "embeddings_index.keys()"
   ]
  },
  {
   "cell_type": "code",
   "execution_count": null,
   "metadata": {},
   "outputs": [],
   "source": [
    "max_length = 300"
   ]
  },
  {
   "cell_type": "code",
   "execution_count": 45,
   "metadata": {},
   "outputs": [
    {
     "name": "stdout",
     "output_type": "stream",
     "text": [
      "Found 91 word vectors.\n"
     ]
    }
   ],
   "source": [
    "print('Found %s word vectors.' % len(embeddings_index))\n",
    "embedding_matrix = np.zeros((len(char_index) + 1, 300))\n",
    "oov = []\n",
    "for char, i in char_index.items():\n",
    "    try:\n",
    "        embedding_vector = embeddings_index[char]\n",
    "        # words not found in embedding index will be all-zeros.\n",
    "        embedding_matrix[i] = embedding_vector\n",
    "    except Exception as e:\n",
    "        oov.append(char)\n",
    "embedding_size = 300\n",
    "embedding_layer = Embedding(embedding_matrix.shape[0],\n",
    "                            embedding_size,\n",
    "                            weights=[embedding_matrix],\n",
    "                            input_length=max_length, trainable = False, mask_zero = True)"
   ]
  },
  {
   "cell_type": "code",
   "execution_count": 48,
   "metadata": {},
   "outputs": [
    {
     "data": {
      "text/plain": [
       "1972"
      ]
     },
     "execution_count": 48,
     "metadata": {},
     "output_type": "execute_result"
    }
   ],
   "source": [
    "len(oov)"
   ]
  },
  {
   "cell_type": "code",
   "execution_count": 50,
   "metadata": {},
   "outputs": [],
   "source": [
    "x_train_texts = tokenizer.texts_to_sequences(X_train['comment_text'])\n",
    "x_train_texts = pad_sequences(x_train_texts, maxlen=max_length, padding='post')\n",
    "\n",
    "x_dev_texts = tokenizer.texts_to_sequences(X_dev['comment_text'])\n",
    "x_dev_texts = pad_sequences(x_dev_texts, maxlen=max_length, padding='post')"
   ]
  },
  {
   "cell_type": "code",
   "execution_count": 51,
   "metadata": {},
   "outputs": [
    {
     "name": "stdout",
     "output_type": "stream",
     "text": [
      "__________________________________________________________________________________________________\n",
      "Layer (type)                    Output Shape         Param #     Connected to                     \n",
      "==================================================================================================\n",
      "input_12 (InputLayer)           (None, 300)          0                                            \n",
      "__________________________________________________________________________________________________\n",
      "model_1 (Model)                 (None, 6)            645436      input_12[0][0]                   \n",
      "__________________________________________________________________________________________________\n",
      "model_2 (Model)                 (None, 6)            645436      input_12[0][0]                   \n",
      "__________________________________________________________________________________________________\n",
      "model_3 (Model)                 (None, 6)            645436      input_12[0][0]                   \n",
      "__________________________________________________________________________________________________\n",
      "model_4 (Model)                 (None, 6)            645436      input_12[0][0]                   \n",
      "__________________________________________________________________________________________________\n",
      "model_5 (Model)                 (None, 6)            645436      input_12[0][0]                   \n",
      "__________________________________________________________________________________________________\n",
      "model_6 (Model)                 (None, 6)            645436      input_12[0][0]                   \n",
      "__________________________________________________________________________________________________\n",
      "model_7 (Model)                 (None, 6)            645436      input_12[0][0]                   \n",
      "__________________________________________________________________________________________________\n",
      "model_8 (Model)                 (None, 6)            645436      input_12[0][0]                   \n",
      "__________________________________________________________________________________________________\n",
      "model_9 (Model)                 (None, 6)            645436      input_12[0][0]                   \n",
      "__________________________________________________________________________________________________\n",
      "model_10 (Model)                (None, 6)            645436      input_12[0][0]                   \n",
      "__________________________________________________________________________________________________\n",
      "model_11 (Model)                (None, 6)            645436      input_12[0][0]                   \n",
      "__________________________________________________________________________________________________\n",
      "concatenate_1 (Concatenate)     (None, 66)           0           model_1[1][0]                    \n",
      "                                                                 model_2[1][0]                    \n",
      "                                                                 model_3[1][0]                    \n",
      "                                                                 model_4[1][0]                    \n",
      "                                                                 model_5[1][0]                    \n",
      "                                                                 model_6[1][0]                    \n",
      "                                                                 model_7[1][0]                    \n",
      "                                                                 model_8[1][0]                    \n",
      "                                                                 model_9[1][0]                    \n",
      "                                                                 model_10[1][0]                   \n",
      "                                                                 model_11[1][0]                   \n",
      "__________________________________________________________________________________________________\n",
      "dense_12 (Dense)                (None, 1)            67          concatenate_1[0][0]              \n",
      "==================================================================================================\n",
      "Total params: 907,863\n",
      "Trainable params: 288,663\n",
      "Non-trainable params: 619,200\n",
      "__________________________________________________________________________________________________\n"
     ]
    }
   ],
   "source": [
    "batch_norm = False\n",
    "num_ensembles = 11\n",
    "\n",
    "def create_lstm_model():\n",
    "    sequence_input = Input(shape=(max_length,), dtype='int32')\n",
    "    embedded_sequences = embedding_layer(sequence_input)\n",
    "    lstm1 = LSTM(20, return_sequences=True)(embedded_sequences)\n",
    "    lstm2 = LSTM(5)(lstm1)\n",
    "    output = Dense(units=6, activation='sigmoid')(lstm2)\n",
    "    return Model(sequence_input, output)\n",
    "\n",
    "lstm_models = [create_lstm_model() for i in range(0,num_ensembles)]\n",
    "\n",
    "ensemble_input = Input(shape=(max_length,))\n",
    "concat = keras.layers.Concatenate()([lstm_model(ensemble_input) for lstm_model in lstm_models])\n",
    "# averaged = keras.layers.average([lstm_model(ensemble_input) for lstm_model in lstm_models])\n",
    "weighted = Dense(units=1)(concat)\n",
    "ensemble_lstm = Model(inputs=[ensemble_input], outputs=[weighted])\n",
    "ensemble_lstm.compile(loss='binary_crossentropy',\n",
    "              optimizer='adam',\n",
    "              metrics=['acc'])    \n",
    "\n",
    "\n",
    "ensemble_lstm.summary()"
   ]
  },
  {
   "cell_type": "code",
   "execution_count": 52,
   "metadata": {},
   "outputs": [],
   "source": [
    "model_name = \"keras_lstm_char_ensemble_classification_model\""
   ]
  },
  {
   "cell_type": "code",
   "execution_count": null,
   "metadata": {
    "scrolled": false
   },
   "outputs": [
    {
     "name": "stdout",
     "output_type": "stream",
     "text": [
      "Train on 111699 samples, validate on 47872 samples\n",
      "Epoch 1/15\n",
      "111699/111699 [==============================] - 4683s 42ms/step - loss: 0.1672 - acc: 0.9603 - val_loss: 0.1418 - val_acc: 0.9632\n",
      "Epoch 2/15\n",
      "111699/111699 [==============================] - 4537s 41ms/step - loss: 0.1171 - acc: 0.9645 - val_loss: 0.1036 - val_acc: 0.9669\n",
      "Epoch 3/15\n",
      "111699/111699 [==============================] - 4524s 41ms/step - loss: 0.0914 - acc: 0.9717 - val_loss: 0.0883 - val_acc: 0.9740\n",
      "Epoch 4/15\n",
      "111699/111699 [==============================] - 4538s 41ms/step - loss: 0.0839 - acc: 0.9743 - val_loss: 0.0845 - val_acc: 0.9742\n",
      "Epoch 5/15\n",
      "111699/111699 [==============================] - 4521s 40ms/step - loss: 0.0795 - acc: 0.9756 - val_loss: 0.0801 - val_acc: 0.9757\n",
      "Epoch 6/15\n",
      "111699/111699 [==============================] - 4537s 41ms/step - loss: 0.0764 - acc: 0.9761 - val_loss: 0.0767 - val_acc: 0.9762\n",
      "Epoch 7/15\n",
      "111699/111699 [==============================] - 4516s 40ms/step - loss: 0.0734 - acc: 0.9767 - val_loss: 0.0740 - val_acc: 0.9769\n",
      "Epoch 8/15\n",
      "111699/111699 [==============================] - 4535s 41ms/step - loss: 0.0710 - acc: 0.9772 - val_loss: 0.0730 - val_acc: 0.9773\n",
      "Epoch 9/15\n",
      "111699/111699 [==============================] - 4518s 40ms/step - loss: 0.0689 - acc: 0.9777 - val_loss: 0.0732 - val_acc: 0.9766\n",
      "Epoch 10/15\n",
      "111699/111699 [==============================] - 4533s 41ms/step - loss: 0.0671 - acc: 0.9780 - val_loss: 0.0674 - val_acc: 0.9781\n",
      "Epoch 11/15\n",
      "111699/111699 [==============================] - 4519s 40ms/step - loss: 0.0870 - acc: 0.9740 - val_loss: 0.0818 - val_acc: 0.9753\n",
      "Epoch 3/15\n",
      "111699/111699 [==============================] - 4545s 41ms/step - loss: 0.0787 - acc: 0.9756 - val_loss: 0.0784 - val_acc: 0.9760\n",
      "Epoch 4/15\n",
      "111699/111699 [==============================] - 4532s 41ms/step - loss: 0.0754 - acc: 0.9764 - val_loss: 0.0802 - val_acc: 0.9758\n",
      "Epoch 5/15\n",
      "111699/111699 [==============================] - 4775s 43ms/step - loss: 0.0726 - acc: 0.9769 - val_loss: 0.0732 - val_acc: 0.9767\n",
      "Epoch 6/15\n",
      "111699/111699 [==============================] - 4759s 43ms/step - loss: 0.0683 - acc: 0.9781 - val_loss: 0.0703 - val_acc: 0.9777\n",
      "Epoch 7/15\n",
      "111699/111699 [==============================] - 4647s 42ms/step - loss: 0.0649 - acc: 0.9791 - val_loss: 0.0662 - val_acc: 0.9788\n",
      "Epoch 8/15\n",
      "111699/111699 [==============================] - 4565s 41ms/step - loss: 0.0623 - acc: 0.9797 - val_loss: 0.0640 - val_acc: 0.9789\n",
      "Epoch 9/15\n",
      "111699/111699 [==============================] - 4547s 41ms/step - loss: 0.0608 - acc: 0.9800 - val_loss: 0.0622 - val_acc: 0.9795\n",
      "Epoch 10/15\n",
      "111699/111699 [==============================] - 4567s 41ms/step - loss: 0.0597 - acc: 0.9803 - val_loss: 0.0624 - val_acc: 0.9793\n",
      "Epoch 11/15\n",
      "111699/111699 [==============================] - 4548s 41ms/step - loss: 0.0587 - acc: 0.9805 - val_loss: 0.0633 - val_acc: 0.9797\n",
      "Train on 111699 samples, validate on 47872 samples\n",
      "Epoch 1/15\n",
      "111699/111699 [==============================] - 4570s 41ms/step - loss: 0.1763 - acc: 0.9595 - val_loss: 0.1421 - val_acc: 0.9632\n",
      "Epoch 2/15\n",
      "111699/111699 [==============================] - 4536s 41ms/step - loss: 0.1409 - acc: 0.9634 - val_loss: 0.1417 - val_acc: 0.9632\n",
      "Epoch 3/15\n",
      "111699/111699 [==============================] - 4549s 41ms/step - loss: 0.1201 - acc: 0.9662 - val_loss: 0.0923 - val_acc: 0.9736\n",
      "Epoch 4/15\n",
      "111699/111699 [==============================] - 4536s 41ms/step - loss: 0.0843 - acc: 0.9746 - val_loss: 0.0827 - val_acc: 0.9748\n",
      "Epoch 5/15\n",
      "111699/111699 [==============================] - 4553s 41ms/step - loss: 0.0780 - acc: 0.9760 - val_loss: 0.0780 - val_acc: 0.9759\n",
      "Epoch 6/15\n",
      "111699/111699 [==============================] - 4536s 41ms/step - loss: 0.0727 - acc: 0.9772 - val_loss: 0.0716 - val_acc: 0.9773\n",
      "Epoch 7/15\n",
      "111699/111699 [==============================] - 4553s 41ms/step - loss: 0.0675 - acc: 0.9784 - val_loss: 0.0673 - val_acc: 0.9784\n",
      "Epoch 8/15\n",
      "111699/111699 [==============================] - 4535s 41ms/step - loss: 0.0641 - acc: 0.9792 - val_loss: 0.0665 - val_acc: 0.9784\n",
      "Epoch 9/15\n",
      "111699/111699 [==============================] - 4552s 41ms/step - loss: 0.0626 - acc: 0.9794 - val_loss: 0.0646 - val_acc: 0.9787\n",
      "Epoch 10/15\n",
      "111699/111699 [==============================] - 4542s 41ms/step - loss: 0.0613 - acc: 0.9798 - val_loss: 0.0636 - val_acc: 0.9794\n",
      "Epoch 11/15\n",
      "111699/111699 [==============================] - 5626s 50ms/step - loss: 0.0605 - acc: 0.9800 - val_loss: 0.0647 - val_acc: 0.9783\n",
      "Epoch 12/15\n",
      "111699/111699 [==============================] - 5882s 53ms/step - loss: 0.0594 - acc: 0.9803 - val_loss: 0.0618 - val_acc: 0.9796\n",
      "Epoch 13/15\n",
      "111699/111699 [==============================] - 4557s 41ms/step - loss: 0.0631 - acc: 0.9794 - val_loss: 0.0644 - val_acc: 0.9789\n",
      "Epoch 9/15\n",
      "111699/111699 [==============================] - 4601s 41ms/step - loss: 0.1064 - acc: 0.9680 - val_loss: 0.0874 - val_acc: 0.9743\n",
      "Epoch 3/15\n",
      " 87500/111699 [======================>.......] - ETA: 14:36 - loss: 0.0814 - acc: 0.9755"
     ]
    }
   ],
   "source": [
    "# model_name = \"cnn_hannes\"\n",
    "# check_point_path= \"../models/\" + model_name + \".h5\"\n",
    "# callbacks = [\n",
    "#      ModelCheckpoint(check_point_path, monitor='val_loss', verbose=1, save_best_only=True, mode='auto')\n",
    "# ]\n",
    "for model in lstm_models:\n",
    "    model.compile(loss='binary_crossentropy',\n",
    "              optimizer='adam',\n",
    "              metrics=['acc'])\n",
    "    callbacks = [\n",
    "        keras.callbacks.ReduceLROnPlateau(monitor='val_loss', factor=0.5, patience=1),\n",
    "        EarlyStopping(monitor='val_loss', min_delta=0, patience=2, verbose=0, mode='auto')\n",
    "    ]\n",
    "    model.fit(x_train_texts, y_train, validation_data=(x_dev_texts, y_dev),\n",
    "              epochs=15, batch_size=50, callbacks = callbacks)"
   ]
  },
  {
   "cell_type": "code",
   "execution_count": 55,
   "metadata": {},
   "outputs": [
    {
     "name": "stdout",
     "output_type": "stream",
     "text": [
      "Saved model to disk\n"
     ]
    }
   ],
   "source": [
    "model_json = model.to_json()\n",
    "with open(MODEL_PATH + model_name + \".json\", \"w\") as json_file:\n",
    "    json_file.write(model_json)\n",
    "# serialize weights to HDF5\n",
    "model.save_weights(MODEL_PATH + model_name + \".h5\")\n",
    "print(\"Saved model to disk\")\n",
    "# ensemble_cnn.load_weights(check_point_path)"
   ]
  },
  {
   "cell_type": "code",
   "execution_count": 57,
   "metadata": {},
   "outputs": [
    {
     "name": "stdout",
     "output_type": "stream",
     "text": [
      "47872/47872 [==============================] - 500s 10ms/step\n"
     ]
    },
    {
     "data": {
      "text/plain": [
       "[0.06006679061911054, 0.9800231369501129]"
      ]
     },
     "execution_count": 57,
     "metadata": {},
     "output_type": "execute_result"
    }
   ],
   "source": [
    "model.evaluate(x_dev_texts, y_dev)"
   ]
  },
  {
   "cell_type": "code",
   "execution_count": 58,
   "metadata": {},
   "outputs": [],
   "source": [
    "pred_dev = model.predict(x_dev_texts)"
   ]
  },
  {
   "cell_type": "code",
   "execution_count": 59,
   "metadata": {},
   "outputs": [],
   "source": [
    "def mean_roc_auc(y_true, y_pred):\n",
    "    roc_auc_scores = []\n",
    "    for i in range(0, y_true.shape[1]):\n",
    "        roc_auc_scores.append(metrics.roc_auc_score(y_true[:, i], y_pred[:, i]))\n",
    "    print(roc_auc_scores)\n",
    "    return np.mean(roc_auc_scores)"
   ]
  },
  {
   "cell_type": "code",
   "execution_count": 60,
   "metadata": {},
   "outputs": [
    {
     "name": "stdout",
     "output_type": "stream",
     "text": [
      "[0.9418627723516417, 0.9806486401237782, 0.9729367663499064, 0.928991961918, 0.9643282237926842, 0.939841603038536]\n"
     ]
    },
    {
     "data": {
      "text/plain": [
       "0.954768327929091"
      ]
     },
     "execution_count": 60,
     "metadata": {},
     "output_type": "execute_result"
    }
   ],
   "source": [
    "mean_roc_auc(y_dev, pred_dev)"
   ]
  },
  {
   "cell_type": "code",
   "execution_count": 61,
   "metadata": {},
   "outputs": [],
   "source": [
    "model_name = 'keras_lstm_char_ensemble_classification_model'"
   ]
  },
  {
   "cell_type": "code",
   "execution_count": 62,
   "metadata": {},
   "outputs": [],
   "source": [
    "import pandas as pd"
   ]
  },
  {
   "cell_type": "code",
   "execution_count": 63,
   "metadata": {},
   "outputs": [],
   "source": [
    "X_official_test = pd.read_csv(\"../data/raw/test.csv\")\n",
    "x_dev_texts = tokenizer.texts_to_sequences(X_official_test['comment_text'])\n",
    "x_dev_texts = pad_sequences(x_dev_texts, maxlen=max_length, padding='post')\n",
    "pred = model.predict(x_dev_texts)\n",
    "list_classes = [\"toxic\", \"severe_toxic\", \"obscene\", \"threat\", \"insult\", \"identity_hate\"]\n",
    "sample_submission = pd.read_csv('../submissions/sample_submission.csv')\n",
    "sample_submission[list_classes] = pred\n",
    "sample_submission.to_csv(\"../submissions/\" + model_name + \".csv\", index=False)"
   ]
  }
 ],
 "metadata": {
  "kernelspec": {
   "display_name": "Python 3",
   "language": "python",
   "name": "python3"
  },
  "language_info": {
   "codemirror_mode": {
    "name": "ipython",
    "version": 3
   },
   "file_extension": ".py",
   "mimetype": "text/x-python",
   "name": "python",
   "nbconvert_exporter": "python",
   "pygments_lexer": "ipython3",
   "version": "3.5.2"
  }
 },
 "nbformat": 4,
 "nbformat_minor": 2
}
