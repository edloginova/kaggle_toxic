{
 "cells": [
  {
   "cell_type": "code",
   "execution_count": 12,
   "metadata": {},
   "outputs": [],
   "source": [
    "import logging\n",
    "import pickle\n",
    "from sklearn import metrics\n",
    "from sklearn.metrics import f1_score\n",
    "import keras\n",
    "from keras.models import Model, Sequential\n",
    "from keras.layers import *\n",
    "from keras.preprocessing.text import one_hot\n",
    "from keras.optimizers import Adam\n",
    "from tqdm import tnrange, tqdm_notebook\n",
    "from keras.layers.advanced_activations import LeakyReLU\n",
    "from keras.preprocessing.sequence import pad_sequences\n",
    "from keras.preprocessing.text import Tokenizer\n",
    "from sklearn.utils import class_weight\n",
    "from keras.callbacks import *"
   ]
  },
  {
   "cell_type": "code",
   "execution_count": 13,
   "metadata": {},
   "outputs": [],
   "source": [
    "import gensim"
   ]
  },
  {
   "cell_type": "code",
   "execution_count": 2,
   "metadata": {},
   "outputs": [],
   "source": [
    "import tensorflow as tf\n",
    "from keras.backend.tensorflow_backend import set_session\n",
    "config = tf.ConfigProto()\n",
    "config.gpu_options.per_process_gpu_memory_fraction = 0.2\n",
    "set_session(tf.Session(config=config))"
   ]
  },
  {
   "cell_type": "code",
   "execution_count": 3,
   "metadata": {},
   "outputs": [],
   "source": [
    "MODEL_PATH = \"../models/\""
   ]
  },
  {
   "cell_type": "code",
   "execution_count": 4,
   "metadata": {},
   "outputs": [],
   "source": [
    "DATA_PATH = \"../data/\"\n",
    "X_train = pickle.load(open(DATA_PATH + \"X_train.p\", \"rb\"))\n",
    "X_dev = pickle.load(open(DATA_PATH + \"X_dev.p\", \"rb\"))\n",
    "y_train = pickle.load(open(DATA_PATH + \"y_train.p\", \"rb\"))\n",
    "y_dev = pickle.load(open(DATA_PATH + \"y_dev.p\", \"rb\"))"
   ]
  },
  {
   "cell_type": "code",
   "execution_count": 5,
   "metadata": {},
   "outputs": [
    {
     "data": {
      "text/plain": [
       "(111699, 6)"
      ]
     },
     "execution_count": 5,
     "metadata": {},
     "output_type": "execute_result"
    }
   ],
   "source": [
    "y_train.shape"
   ]
  },
  {
   "cell_type": "code",
   "execution_count": 6,
   "metadata": {},
   "outputs": [],
   "source": [
    "train_text = X_train['comment_text']"
   ]
  },
  {
   "cell_type": "code",
   "execution_count": 7,
   "metadata": {},
   "outputs": [],
   "source": [
    "tokenizer = Tokenizer(num_words=18400)\n",
    "tokenizer.fit_on_texts(train_text)\n",
    "sequences = tokenizer.texts_to_sequences(train_text)"
   ]
  },
  {
   "cell_type": "code",
   "execution_count": 15,
   "metadata": {},
   "outputs": [],
   "source": [
    "word_index = tokenizer.word_index\n",
    "from gensim.models.wrappers import FastText\n",
    "embeddings_index = FastText.load_word2vec_format('../../../embeddings/crawl-300d-2M.vec')"
   ]
  },
  {
   "cell_type": "code",
   "execution_count": 24,
   "metadata": {},
   "outputs": [
    {
     "name": "stdout",
     "output_type": "stream",
     "text": [
      "Found 2000000 word vectors.\n"
     ]
    }
   ],
   "source": [
    "print('Found %s word vectors.' % len(embeddings_index.vocab))\n",
    "embedding_matrix = np.zeros((len(word_index) + 1, 300))\n",
    "oov = []\n",
    "for word, i in word_index.items():\n",
    "    try:\n",
    "        embedding_vector = embeddings_index[word]\n",
    "        # words not found in embedding index will be all-zeros.\n",
    "        embedding_matrix[i] = embedding_vector\n",
    "    except Exception as e:\n",
    "        oov.append(word)\n",
    "embedding_size = 300\n",
    "embedding_layer = Embedding(embedding_matrix.shape[0],\n",
    "                            embedding_size,\n",
    "                            weights=[embedding_matrix],\n",
    "                            input_length=200, trainable = False, mask_zero = True)"
   ]
  },
  {
   "cell_type": "code",
   "execution_count": 19,
   "metadata": {},
   "outputs": [
    {
     "data": {
      "text/plain": [
       "80572"
      ]
     },
     "execution_count": 19,
     "metadata": {},
     "output_type": "execute_result"
    }
   ],
   "source": [
    "len(oov)"
   ]
  },
  {
   "cell_type": "code",
   "execution_count": 21,
   "metadata": {},
   "outputs": [],
   "source": [
    "max_length = 200\n",
    "\n",
    "x_train_texts = tokenizer.texts_to_sequences(X_train['comment_text'])\n",
    "x_train_texts = pad_sequences(x_train_texts, maxlen=max_length, padding='post')\n",
    "\n",
    "x_dev_texts = tokenizer.texts_to_sequences(X_dev['comment_text'])\n",
    "x_dev_texts = pad_sequences(x_dev_texts, maxlen=max_length, padding='post')"
   ]
  },
  {
   "cell_type": "code",
   "execution_count": 28,
   "metadata": {},
   "outputs": [
    {
     "name": "stdout",
     "output_type": "stream",
     "text": [
      "__________________________________________________________________________________________________\n",
      "Layer (type)                    Output Shape         Param #     Connected to                     \n",
      "==================================================================================================\n",
      "input_28 (InputLayer)           (None, 200)          0                                            \n",
      "__________________________________________________________________________________________________\n",
      "model_12 (Model)                (None, 6)            50675536    input_28[0][0]                   \n",
      "__________________________________________________________________________________________________\n",
      "model_13 (Model)                (None, 6)            50675536    input_28[0][0]                   \n",
      "__________________________________________________________________________________________________\n",
      "model_14 (Model)                (None, 6)            50675536    input_28[0][0]                   \n",
      "__________________________________________________________________________________________________\n",
      "model_15 (Model)                (None, 6)            50675536    input_28[0][0]                   \n",
      "__________________________________________________________________________________________________\n",
      "model_16 (Model)                (None, 6)            50675536    input_28[0][0]                   \n",
      "__________________________________________________________________________________________________\n",
      "model_17 (Model)                (None, 6)            50675536    input_28[0][0]                   \n",
      "__________________________________________________________________________________________________\n",
      "model_18 (Model)                (None, 6)            50675536    input_28[0][0]                   \n",
      "__________________________________________________________________________________________________\n",
      "model_19 (Model)                (None, 6)            50675536    input_28[0][0]                   \n",
      "__________________________________________________________________________________________________\n",
      "model_20 (Model)                (None, 6)            50675536    input_28[0][0]                   \n",
      "__________________________________________________________________________________________________\n",
      "model_21 (Model)                (None, 6)            50675536    input_28[0][0]                   \n",
      "__________________________________________________________________________________________________\n",
      "model_22 (Model)                (None, 6)            50675536    input_28[0][0]                   \n",
      "__________________________________________________________________________________________________\n",
      "concatenate_1 (Concatenate)     (None, 66)           0           model_12[1][0]                   \n",
      "                                                                 model_13[1][0]                   \n",
      "                                                                 model_14[1][0]                   \n",
      "                                                                 model_15[1][0]                   \n",
      "                                                                 model_16[1][0]                   \n",
      "                                                                 model_17[1][0]                   \n",
      "                                                                 model_18[1][0]                   \n",
      "                                                                 model_19[1][0]                   \n",
      "                                                                 model_20[1][0]                   \n",
      "                                                                 model_21[1][0]                   \n",
      "                                                                 model_22[1][0]                   \n",
      "__________________________________________________________________________________________________\n",
      "dense_25 (Dense)                (None, 1)            67          concatenate_1[0][0]              \n",
      "==================================================================================================\n",
      "Total params: 50,937,963\n",
      "Trainable params: 288,663\n",
      "Non-trainable params: 50,649,300\n",
      "__________________________________________________________________________________________________\n"
     ]
    }
   ],
   "source": [
    "batch_norm = False\n",
    "num_ensembles = 11\n",
    "\n",
    "def create_lstm_model():\n",
    "    sequence_input = Input(shape=(max_length,), dtype='int32')\n",
    "    embedded_sequences = embedding_layer(sequence_input)\n",
    "    lstm1 = LSTM(20, return_sequences=True)(embedded_sequences)\n",
    "    lstm2 = LSTM(5)(lstm1)\n",
    "    output = Dense(units=6, activation='sigmoid')(lstm2)\n",
    "    return Model(sequence_input, output)\n",
    "\n",
    "lstm_models = [create_lstm_model() for i in range(0,num_ensembles)]\n",
    "\n",
    "ensemble_input = Input(shape=(max_length,))\n",
    "concat = keras.layers.Concatenate()([lstm_model(ensemble_input) for lstm_model in lstm_models])\n",
    "# averaged = keras.layers.average([lstm_model(ensemble_input) for lstm_model in lstm_models])\n",
    "weighted = Dense(units=1)(concat)\n",
    "ensemble_lstm = Model(inputs=[ensemble_input], outputs=[weighted])\n",
    "ensemble_lstm.compile(loss='binary_crossentropy',\n",
    "              optimizer='adam',\n",
    "              metrics=['acc'])    \n",
    "\n",
    "\n",
    "ensemble_lstm.summary()"
   ]
  },
  {
   "cell_type": "code",
   "execution_count": 29,
   "metadata": {},
   "outputs": [],
   "source": [
    "model_name = \"keras_lstm-dense_fasttext_ensemble_classification_model\""
   ]
  },
  {
   "cell_type": "code",
   "execution_count": null,
   "metadata": {
    "scrolled": false
   },
   "outputs": [
    {
     "name": "stdout",
     "output_type": "stream",
     "text": [
      "Train on 111699 samples, validate on 47872 samples\n",
      "Epoch 1/15\n",
      "111699/111699 [==============================] - 2141s 19ms/step - loss: 0.1127 - acc: 0.9716 - val_loss: 0.0598 - val_acc: 0.9801\n",
      "Epoch 2/15\n",
      "111699/111699 [==============================] - 2206s 20ms/step - loss: 0.0553 - acc: 0.9806 - val_loss: 0.0534 - val_acc: 0.9809\n",
      "Epoch 3/15\n",
      "111699/111699 [==============================] - 3148s 28ms/step - loss: 0.0511 - acc: 0.9816 - val_loss: 0.0509 - val_acc: 0.9817\n",
      "Epoch 4/15\n",
      "111699/111699 [==============================] - 3060s 27ms/step - loss: 0.0486 - acc: 0.9822 - val_loss: 0.0492 - val_acc: 0.9820\n",
      "Epoch 5/15\n",
      "111699/111699 [==============================] - 3057s 27ms/step - loss: 0.0472 - acc: 0.9825 - val_loss: 0.0495 - val_acc: 0.9821\n",
      "Epoch 6/15\n",
      "111699/111699 [==============================] - 3087s 28ms/step - loss: 0.0456 - acc: 0.9829 - val_loss: 0.0484 - val_acc: 0.9823\n",
      "Epoch 7/15\n",
      "111699/111699 [==============================] - 3059s 27ms/step - loss: 0.0443 - acc: 0.9834 - val_loss: 0.0477 - val_acc: 0.9824\n",
      "Epoch 8/15\n",
      "111699/111699 [==============================] - 3058s 27ms/step - loss: 0.0433 - acc: 0.9836 - val_loss: 0.0476 - val_acc: 0.9824\n",
      "Epoch 9/15\n",
      "111699/111699 [==============================] - 3087s 28ms/step - loss: 0.0420 - acc: 0.9840 - val_loss: 0.0472 - val_acc: 0.9826\n",
      "Epoch 10/15\n",
      "111699/111699 [==============================] - 3058s 27ms/step - loss: 0.0410 - acc: 0.9844 - val_loss: 0.0485 - val_acc: 0.9824\n",
      "Epoch 11/15\n",
      "111699/111699 [==============================] - 3058s 27ms/step - loss: 0.0397 - acc: 0.9847 - val_loss: 0.0478 - val_acc: 0.9826\n",
      "Train on 111699 samples, validate on 47872 samples\n",
      "Epoch 1/15\n",
      "111699/111699 [==============================] - 3092s 28ms/step - loss: 0.1107 - acc: 0.9725 - val_loss: 0.0577 - val_acc: 0.9811\n",
      "Epoch 2/15\n",
      "111699/111699 [==============================] - 3062s 27ms/step - loss: 0.0530 - acc: 0.9817 - val_loss: 0.0525 - val_acc: 0.9815\n",
      "Epoch 3/15\n",
      "111699/111699 [==============================] - 3063s 27ms/step - loss: 0.0488 - acc: 0.9823 - val_loss: 0.0488 - val_acc: 0.9821\n",
      "Epoch 4/15\n",
      "111699/111699 [==============================] - 3090s 28ms/step - loss: 0.0467 - acc: 0.9830 - val_loss: 0.0491 - val_acc: 0.9818\n",
      "Epoch 5/15\n",
      "111699/111699 [==============================] - 3061s 27ms/step - loss: 0.0454 - acc: 0.9832 - val_loss: 0.0477 - val_acc: 0.9825\n",
      "Epoch 6/15\n",
      "111699/111699 [==============================] - 3060s 27ms/step - loss: 0.0441 - acc: 0.9836 - val_loss: 0.0481 - val_acc: 0.9825\n",
      "Epoch 7/15\n",
      "111699/111699 [==============================] - 3080s 28ms/step - loss: 0.0468 - acc: 0.9827 - val_loss: 0.0480 - val_acc: 0.9823\n",
      "Epoch 5/15\n",
      "111699/111699 [==============================] - 3109s 28ms/step - loss: 0.0454 - acc: 0.9830 - val_loss: 0.0499 - val_acc: 0.9821\n",
      "Epoch 6/15\n",
      "111699/111699 [==============================] - 3085s 28ms/step - loss: 0.0439 - acc: 0.9833 - val_loss: 0.0467 - val_acc: 0.9826\n",
      "Epoch 7/15\n",
      "111699/111699 [==============================] - 3083s 28ms/step - loss: 0.0429 - acc: 0.9836 - val_loss: 0.0463 - val_acc: 0.9826\n",
      "Epoch 8/15\n",
      "111699/111699 [==============================] - 3157s 28ms/step - loss: 0.0415 - acc: 0.9839 - val_loss: 0.0468 - val_acc: 0.9825\n",
      "Epoch 9/15\n",
      "111699/111699 [==============================] - 3358s 30ms/step - loss: 0.0405 - acc: 0.9842 - val_loss: 0.0472 - val_acc: 0.9825\n",
      "Train on 111699 samples, validate on 47872 samples\n",
      "Epoch 1/15\n",
      "111699/111699 [==============================] - 3182s 28ms/step - loss: 0.1301 - acc: 0.9644 - val_loss: 0.0603 - val_acc: 0.9814\n",
      "Epoch 2/15\n",
      "111699/111699 [==============================] - 3212s 29ms/step - loss: 0.0531 - acc: 0.9820 - val_loss: 0.0513 - val_acc: 0.9818\n",
      "Epoch 3/15\n",
      "111699/111699 [==============================] - 3088s 28ms/step - loss: 0.0478 - acc: 0.9826 - val_loss: 0.0488 - val_acc: 0.9823\n",
      "Epoch 4/15\n",
      "111699/111699 [==============================] - 3087s 28ms/step - loss: 0.0455 - acc: 0.9832 - val_loss: 0.0481 - val_acc: 0.9827\n",
      "Epoch 5/15\n",
      "111699/111699 [==============================] - 3115s 28ms/step - loss: 0.0439 - acc: 0.9838 - val_loss: 0.0479 - val_acc: 0.9824\n",
      "Epoch 6/15\n",
      "111699/111699 [==============================] - 3086s 28ms/step - loss: 0.0427 - acc: 0.9842 - val_loss: 0.0482 - val_acc: 0.9829\n",
      "Epoch 7/15\n",
      "111699/111699 [==============================] - 3086s 28ms/step - loss: 0.0416 - acc: 0.9846 - val_loss: 0.0477 - val_acc: 0.9824\n",
      "Epoch 8/15\n",
      "111699/111699 [==============================] - 3113s 28ms/step - loss: 0.0405 - acc: 0.9850 - val_loss: 0.0473 - val_acc: 0.9828\n",
      "Epoch 9/15\n",
      "111699/111699 [==============================] - 3084s 28ms/step - loss: 0.0394 - acc: 0.9853 - val_loss: 0.0480 - val_acc: 0.9827\n",
      "Epoch 10/15\n",
      "111699/111699 [==============================] - 3089s 28ms/step - loss: 0.0385 - acc: 0.9857 - val_loss: 0.0506 - val_acc: 0.9827\n",
      "Train on 111699 samples, validate on 47872 samples\n",
      "Epoch 1/15\n",
      "111699/111699 [==============================] - 3109s 28ms/step - loss: 0.1088 - acc: 0.9731 - val_loss: 0.0577 - val_acc: 0.9810\n",
      "Epoch 2/15\n",
      "111699/111699 [==============================] - 3076s 28ms/step - loss: 0.0531 - acc: 0.9816 - val_loss: 0.0505 - val_acc: 0.9821\n",
      "Epoch 3/15\n",
      "111699/111699 [==============================] - 3074s 28ms/step - loss: 0.0488 - acc: 0.9822 - val_loss: 0.0500 - val_acc: 0.9823\n",
      "Epoch 4/15\n",
      "111699/111699 [==============================] - 3096s 28ms/step - loss: 0.0467 - acc: 0.9827 - val_loss: 0.0486 - val_acc: 0.9820\n",
      "Epoch 5/15\n",
      "111699/111699 [==============================] - 3082s 28ms/step - loss: 0.0450 - acc: 0.9832 - val_loss: 0.0479 - val_acc: 0.9825\n",
      "Epoch 6/15\n",
      "111699/111699 [==============================] - 3074s 28ms/step - loss: 0.0436 - acc: 0.9836 - val_loss: 0.0472 - val_acc: 0.9826\n",
      "Epoch 7/15\n",
      "111699/111699 [==============================] - 3088s 28ms/step - loss: 0.0422 - acc: 0.9839 - val_loss: 0.0474 - val_acc: 0.9822\n",
      "Epoch 8/15\n",
      "111699/111699 [==============================] - 3089s 28ms/step - loss: 0.0411 - acc: 0.9842 - val_loss: 0.0479 - val_acc: 0.9822\n",
      "Train on 111699 samples, validate on 47872 samples\n",
      "Epoch 1/15\n",
      "111699/111699 [==============================] - 3078s 28ms/step - loss: 0.1082 - acc: 0.9715 - val_loss: 0.0614 - val_acc: 0.9783\n",
      "Epoch 2/15\n",
      "111699/111699 [==============================] - 3079s 28ms/step - loss: 0.0550 - acc: 0.9811 - val_loss: 0.0612 - val_acc: 0.9808\n",
      "Epoch 3/15\n",
      "111699/111699 [==============================] - 3098s 28ms/step - loss: 0.0504 - acc: 0.9816 - val_loss: 0.0510 - val_acc: 0.9810\n",
      "Epoch 4/15\n",
      "111699/111699 [==============================] - 3072s 28ms/step - loss: 0.0481 - acc: 0.9822 - val_loss: 0.0491 - val_acc: 0.9818\n",
      "Epoch 5/15\n",
      "111699/111699 [==============================] - 3077s 28ms/step - loss: 0.0464 - acc: 0.9827 - val_loss: 0.0490 - val_acc: 0.9821\n",
      "Epoch 6/15\n",
      "111699/111699 [==============================] - 3758s 34ms/step - loss: 0.0450 - acc: 0.9833 - val_loss: 0.0477 - val_acc: 0.9820\n",
      "Epoch 7/15\n",
      "111699/111699 [==============================] - 3949s 35ms/step - loss: 0.0436 - acc: 0.9836 - val_loss: 0.0479 - val_acc: 0.9822\n",
      "Epoch 8/15\n",
      "111699/111699 [==============================] - 3951s 35ms/step - loss: 0.0428 - acc: 0.9839 - val_loss: 0.0496 - val_acc: 0.9820\n",
      "Train on 111699 samples, validate on 47872 samples\n",
      "Epoch 1/15\n",
      "111699/111699 [==============================] - 3120s 28ms/step - loss: 0.0448 - acc: 0.9831 - val_loss: 0.0500 - val_acc: 0.9812\n",
      "Train on 111699 samples, validate on 47872 samples\n",
      "Epoch 1/15\n",
      "111699/111699 [==============================] - 3126s 28ms/step - loss: 0.0426 - acc: 0.9839 - val_loss: 0.0470 - val_acc: 0.9819\n",
      "Epoch 7/15\n",
      "111699/111699 [==============================] - 3149s 28ms/step - loss: 0.0411 - acc: 0.9841 - val_loss: 0.0468 - val_acc: 0.9827\n",
      "Epoch 8/15\n",
      " 51550/111699 [============>.................] - ETA: 24:54 - loss: 0.0397 - acc: 0.9847"
     ]
    }
   ],
   "source": [
    "# model_name = \"cnn_hannes\"\n",
    "# check_point_path= \"../models/\" + model_name + \".h5\"\n",
    "# callbacks = [\n",
    "#      ModelCheckpoint(check_point_path, monitor='val_loss', verbose=1, save_best_only=True, mode='auto')\n",
    "# ]\n",
    "for model in lstm_models:\n",
    "    model.compile(loss='binary_crossentropy',\n",
    "              optimizer='adam',\n",
    "              metrics=['acc'])\n",
    "    callbacks = [\n",
    "        keras.callbacks.ReduceLROnPlateau(monitor='val_loss', factor=0.5, patience=1),\n",
    "        EarlyStopping(monitor='val_loss', min_delta=0, patience=2, verbose=0, mode='auto')\n",
    "    ]\n",
    "    model.fit(x_train_texts, y_train, validation_data=(x_dev_texts, y_dev),\n",
    "              epochs=15, batch_size=50, callbacks = callbacks)"
   ]
  },
  {
   "cell_type": "code",
   "execution_count": 32,
   "metadata": {},
   "outputs": [],
   "source": [
    "model_name = 'keras_ensemble_lstm_classification_model'"
   ]
  },
  {
   "cell_type": "code",
   "execution_count": 33,
   "metadata": {},
   "outputs": [
    {
     "name": "stdout",
     "output_type": "stream",
     "text": [
      "Saved model to disk\n"
     ]
    }
   ],
   "source": [
    "model_json = model.to_json()\n",
    "with open(MODEL_PATH + model_name + \".json\", \"w\") as json_file:\n",
    "    json_file.write(model_json)\n",
    "# serialize weights to HDF5\n",
    "ensemble_lstm.save_weights(MODEL_PATH + model_name + \".h5\")\n",
    "print(\"Saved model to disk\")\n",
    "# ensemble_cnn.load_weights(check_point_path)"
   ]
  },
  {
   "cell_type": "code",
   "execution_count": 35,
   "metadata": {},
   "outputs": [],
   "source": [
    "pred_dev = ensemble_lstm.predict(x_dev_texts)"
   ]
  },
  {
   "cell_type": "code",
   "execution_count": 36,
   "metadata": {},
   "outputs": [],
   "source": [
    "def mean_roc_auc(y_true, y_pred):\n",
    "    roc_auc_scores = []\n",
    "    for i in range(0, y_true.shape[1]):\n",
    "        roc_auc_scores.append(metrics.roc_auc_score(y_true[:, i], y_pred[:, i]))\n",
    "    print(roc_auc_scores)\n",
    "    return np.mean(roc_auc_scores)"
   ]
  },
  {
   "cell_type": "code",
   "execution_count": 38,
   "metadata": {},
   "outputs": [
    {
     "data": {
      "text/plain": [
       "array([[0, 0, 0, 0, 0, 0],\n",
       "       [0, 0, 0, 0, 0, 0],\n",
       "       [0, 0, 0, 0, 0, 0],\n",
       "       ...,\n",
       "       [0, 0, 0, 0, 0, 0],\n",
       "       [0, 0, 0, 0, 0, 0],\n",
       "       [0, 0, 0, 0, 0, 0]])"
      ]
     },
     "execution_count": 38,
     "metadata": {},
     "output_type": "execute_result"
    }
   ],
   "source": [
    "y_dev"
   ]
  },
  {
   "cell_type": "code",
   "execution_count": 37,
   "metadata": {},
   "outputs": [
    {
     "ename": "IndexError",
     "evalue": "index 1 is out of bounds for axis 1 with size 1",
     "output_type": "error",
     "traceback": [
      "\u001b[0;31m---------------------------------------------------------------------------\u001b[0m",
      "\u001b[0;31mIndexError\u001b[0m                                Traceback (most recent call last)",
      "\u001b[0;32m<ipython-input-37-505fb45ce55d>\u001b[0m in \u001b[0;36m<module>\u001b[0;34m()\u001b[0m\n\u001b[0;32m----> 1\u001b[0;31m \u001b[0mmean_roc_auc\u001b[0m\u001b[0;34m(\u001b[0m\u001b[0my_dev\u001b[0m\u001b[0;34m,\u001b[0m \u001b[0mpred_dev\u001b[0m\u001b[0;34m)\u001b[0m\u001b[0;34m\u001b[0m\u001b[0m\n\u001b[0m",
      "\u001b[0;32m<ipython-input-36-2e72a119105c>\u001b[0m in \u001b[0;36mmean_roc_auc\u001b[0;34m(y_true, y_pred)\u001b[0m\n\u001b[1;32m      2\u001b[0m     \u001b[0mroc_auc_scores\u001b[0m \u001b[0;34m=\u001b[0m \u001b[0;34m[\u001b[0m\u001b[0;34m]\u001b[0m\u001b[0;34m\u001b[0m\u001b[0m\n\u001b[1;32m      3\u001b[0m     \u001b[0;32mfor\u001b[0m \u001b[0mi\u001b[0m \u001b[0;32min\u001b[0m \u001b[0mrange\u001b[0m\u001b[0;34m(\u001b[0m\u001b[0;36m0\u001b[0m\u001b[0;34m,\u001b[0m \u001b[0my_true\u001b[0m\u001b[0;34m.\u001b[0m\u001b[0mshape\u001b[0m\u001b[0;34m[\u001b[0m\u001b[0;36m1\u001b[0m\u001b[0;34m]\u001b[0m\u001b[0;34m)\u001b[0m\u001b[0;34m:\u001b[0m\u001b[0;34m\u001b[0m\u001b[0m\n\u001b[0;32m----> 4\u001b[0;31m         \u001b[0mroc_auc_scores\u001b[0m\u001b[0;34m.\u001b[0m\u001b[0mappend\u001b[0m\u001b[0;34m(\u001b[0m\u001b[0mmetrics\u001b[0m\u001b[0;34m.\u001b[0m\u001b[0mroc_auc_score\u001b[0m\u001b[0;34m(\u001b[0m\u001b[0my_true\u001b[0m\u001b[0;34m[\u001b[0m\u001b[0;34m:\u001b[0m\u001b[0;34m,\u001b[0m \u001b[0mi\u001b[0m\u001b[0;34m]\u001b[0m\u001b[0;34m,\u001b[0m \u001b[0my_pred\u001b[0m\u001b[0;34m[\u001b[0m\u001b[0;34m:\u001b[0m\u001b[0;34m,\u001b[0m \u001b[0mi\u001b[0m\u001b[0;34m]\u001b[0m\u001b[0;34m)\u001b[0m\u001b[0;34m)\u001b[0m\u001b[0;34m\u001b[0m\u001b[0m\n\u001b[0m\u001b[1;32m      5\u001b[0m     \u001b[0mprint\u001b[0m\u001b[0;34m(\u001b[0m\u001b[0mroc_auc_scores\u001b[0m\u001b[0;34m)\u001b[0m\u001b[0;34m\u001b[0m\u001b[0m\n\u001b[1;32m      6\u001b[0m     \u001b[0;32mreturn\u001b[0m \u001b[0mnp\u001b[0m\u001b[0;34m.\u001b[0m\u001b[0mmean\u001b[0m\u001b[0;34m(\u001b[0m\u001b[0mroc_auc_scores\u001b[0m\u001b[0;34m)\u001b[0m\u001b[0;34m\u001b[0m\u001b[0m\n",
      "\u001b[0;31mIndexError\u001b[0m: index 1 is out of bounds for axis 1 with size 1"
     ]
    }
   ],
   "source": [
    "mean_roc_auc(y_dev, pred_dev)"
   ]
  },
  {
   "cell_type": "code",
   "execution_count": null,
   "metadata": {},
   "outputs": [],
   "source": [
    "import pandas as pd"
   ]
  },
  {
   "cell_type": "code",
   "execution_count": null,
   "metadata": {},
   "outputs": [],
   "source": [
    "X_official_test = pd.read_csv(\"../data/raw/test.csv\")\n",
    "x_dev_texts = tokenizer.texts_to_sequences(X_official_test['comment_text'])\n",
    "x_dev_texts = pad_sequences(x_dev_texts, maxlen=max_length, padding='post')\n",
    "pred = model.predict(x_dev_texts)\n",
    "list_classes = [\"toxic\", \"severe_toxic\", \"obscene\", \"threat\", \"insult\", \"identity_hate\"]\n",
    "sample_submission = pd.read_csv('../submissions/sample_submission.csv')\n",
    "sample_submission[list_classes] = pred\n",
    "sample_submission.to_csv(\"../submissions/\" + model_name + \".csv\", index=False)"
   ]
  }
 ],
 "metadata": {
  "kernelspec": {
   "display_name": "Python 3",
   "language": "python",
   "name": "python3"
  },
  "language_info": {
   "codemirror_mode": {
    "name": "ipython",
    "version": 3
   },
   "file_extension": ".py",
   "mimetype": "text/x-python",
   "name": "python",
   "nbconvert_exporter": "python",
   "pygments_lexer": "ipython3",
   "version": "3.5.2"
  }
 },
 "nbformat": 4,
 "nbformat_minor": 2
}
