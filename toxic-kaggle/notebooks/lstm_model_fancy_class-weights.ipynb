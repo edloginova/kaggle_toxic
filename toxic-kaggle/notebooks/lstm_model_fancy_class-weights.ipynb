{
 "cells": [
  {
   "cell_type": "code",
   "execution_count": 1,
   "metadata": {},
   "outputs": [
    {
     "name": "stderr",
     "output_type": "stream",
     "text": [
      "/usr/local/lib/python3.5/dist-packages/h5py/__init__.py:36: FutureWarning: Conversion of the second argument of issubdtype from `float` to `np.floating` is deprecated. In future, it will be treated as `np.float64 == np.dtype(float).type`.\n",
      "  from ._conv import register_converters as _register_converters\n",
      "Using TensorFlow backend.\n"
     ]
    }
   ],
   "source": [
    "import logging\n",
    "import pickle\n",
    "import pandas as pd\n",
    "from sklearn import metrics\n",
    "from sklearn.metrics import f1_score\n",
    "import keras\n",
    "from keras.models import Model, Sequential\n",
    "from keras.layers import *\n",
    "from keras.preprocessing.text import one_hot\n",
    "from keras.optimizers import Adam\n",
    "from tqdm import tnrange, tqdm_notebook\n",
    "from keras.layers.advanced_activations import LeakyReLU\n",
    "from keras.preprocessing.sequence import pad_sequences\n",
    "from keras.preprocessing.text import Tokenizer\n",
    "from sklearn.utils import class_weight"
   ]
  },
  {
   "cell_type": "markdown",
   "metadata": {},
   "source": [
    "Things to include:\n",
    "* bias initialization with 1 +\n",
    "* dropout (recurrent?) + https://github.com/tensorflow/tensorflow/blob/v1.3.0/tensorflow/contrib/keras/python/keras/layers/recurrent.py#L140 \n",
    "* Adam / SGD with learning rate annealing + momentum\n",
    "* self-attention\n",
    "* Bayesian Optimization for hyperparameters\n",
    "* Gradient norm clipping +"
   ]
  },
  {
   "cell_type": "code",
   "execution_count": 2,
   "metadata": {},
   "outputs": [],
   "source": [
    "MODEL_PATH = \"../models/\""
   ]
  },
  {
   "cell_type": "code",
   "execution_count": 3,
   "metadata": {},
   "outputs": [],
   "source": [
    "DATA_PATH = \"../data/\"\n",
    "X_train = pickle.load(open(DATA_PATH + \"X_train.p\", \"rb\"))\n",
    "X_dev = pickle.load(open(DATA_PATH + \"X_dev.p\", \"rb\"))\n",
    "y_train = pickle.load(open(DATA_PATH + \"y_train.p\", \"rb\"))\n",
    "y_dev = pickle.load(open(DATA_PATH + \"y_dev.p\", \"rb\"))"
   ]
  },
  {
   "cell_type": "code",
   "execution_count": 4,
   "metadata": {},
   "outputs": [
    {
     "data": {
      "text/plain": [
       "(111699, 6)"
      ]
     },
     "execution_count": 4,
     "metadata": {},
     "output_type": "execute_result"
    }
   ],
   "source": [
    "y_train.shape"
   ]
  },
  {
   "cell_type": "code",
   "execution_count": 5,
   "metadata": {},
   "outputs": [],
   "source": [
    "train_text = X_train['comment_text']"
   ]
  },
  {
   "cell_type": "code",
   "execution_count": 6,
   "metadata": {},
   "outputs": [],
   "source": [
    "tokenizer = Tokenizer(num_words=18400)\n",
    "tokenizer.fit_on_texts(train_text)\n",
    "sequences = tokenizer.texts_to_sequences(train_text)"
   ]
  },
  {
   "cell_type": "code",
   "execution_count": 8,
   "metadata": {},
   "outputs": [],
   "source": [
    "word_index = tokenizer.word_index\n",
    "embeddings_index = {}\n",
    "f = open('../../../embeddings/glove.6B.300d.txt')\n",
    "for line in f:\n",
    "    values = line.split()\n",
    "    word = values[0]\n",
    "    coefs = np.asarray(values[1:], dtype='float32')\n",
    "    embeddings_index[word] = coefs\n",
    "f.close()"
   ]
  },
  {
   "cell_type": "code",
   "execution_count": 9,
   "metadata": {},
   "outputs": [
    {
     "name": "stdout",
     "output_type": "stream",
     "text": [
      "Found 400000 word vectors.\n"
     ]
    }
   ],
   "source": [
    "print('Found %s word vectors.' % len(embeddings_index))\n",
    "embedding_matrix = np.zeros((len(word_index) + 1, 300))\n",
    "for word, i in word_index.items():\n",
    "    embedding_vector = embeddings_index.get(word)\n",
    "    if embedding_vector is not None:\n",
    "        # words not found in embedding index will be all-zeros.\n",
    "        embedding_matrix[i] = embedding_vector\n",
    "embedding_layer = Embedding(embedding_matrix.shape[0],\n",
    "                            300,\n",
    "                            weights=[embedding_matrix],\n",
    "                            input_length=200, trainable = False,  mask_zero=True)"
   ]
  },
  {
   "cell_type": "code",
   "execution_count": 10,
   "metadata": {},
   "outputs": [],
   "source": [
    "max_length = 200\n",
    "\n",
    "x_train_texts = tokenizer.texts_to_sequences(X_train['comment_text'])\n",
    "x_train_texts = pad_sequences(x_train_texts, maxlen=max_length, padding='post')\n",
    "\n",
    "x_dev_texts = tokenizer.texts_to_sequences(X_dev['comment_text'])\n",
    "x_dev_texts = pad_sequences(x_dev_texts, maxlen=max_length, padding='post')"
   ]
  },
  {
   "cell_type": "code",
   "execution_count": 11,
   "metadata": {},
   "outputs": [],
   "source": [
    "# class_weight = class_weight.compute_class_weight('balanced', np.unique(current_y_train), current_y_train)\n",
    "# class_weight = {i:x for i, x in enumerate(list(class_weight))}\n",
    "# class_weight"
   ]
  },
  {
   "cell_type": "code",
   "execution_count": 12,
   "metadata": {},
   "outputs": [],
   "source": [
    "adam = keras.optimizers.Adam(clipnorm=1.)"
   ]
  },
  {
   "cell_type": "code",
   "execution_count": 16,
   "metadata": {},
   "outputs": [
    {
     "name": "stdout",
     "output_type": "stream",
     "text": [
      "_________________________________________________________________\n",
      "Layer (type)                 Output Shape              Param #   \n",
      "=================================================================\n",
      "input_3 (InputLayer)         (None, 200)               0         \n",
      "_________________________________________________________________\n",
      "embedding_1 (Embedding)      (None, 200, 300)          50649300  \n",
      "_________________________________________________________________\n",
      "lstm_5 (LSTM)                (None, 200, 50)           70200     \n",
      "_________________________________________________________________\n",
      "lstm_6 (LSTM)                (None, 10)                2440      \n",
      "_________________________________________________________________\n",
      "dense_2 (Dense)              (None, 6)                 66        \n",
      "=================================================================\n",
      "Total params: 50,722,006\n",
      "Trainable params: 72,706\n",
      "Non-trainable params: 50,649,300\n",
      "_________________________________________________________________\n"
     ]
    }
   ],
   "source": [
    "sequence_input = Input(shape=(max_length,), dtype='int32')\n",
    "embedded_sequences = embedding_layer(sequence_input)\n",
    "lstm = keras.layers.LSTM(50, return_sequences=True, unit_forget_bias = True, recurrent_dropout = 0.2, dropout = 0.5,  kernel_initializer='he_normal')(embedded_sequences)\n",
    "lstm2 = keras.layers.LSTM(10, unit_forget_bias = True, recurrent_dropout = 0.2, dropout = 0.5,  kernel_initializer='he_normal')(lstm)\n",
    "x = Dense(6, activation='sigmoid')(lstm2)\n",
    "\n",
    "model = Model(sequence_input, x)\n",
    "model.compile(loss='binary_crossentropy',\n",
    "              optimizer=adam,\n",
    "              metrics=['acc'])\n",
    "\n",
    "model.summary()"
   ]
  },
  {
   "cell_type": "code",
   "execution_count": null,
   "metadata": {},
   "outputs": [
    {
     "name": "stdout",
     "output_type": "stream",
     "text": [
      "Train on 111699 samples, validate on 47872 samples\n",
      "Epoch 1/20\n",
      "111699/111699 [==============================] - 3805s 34ms/step - loss: 0.0868 - acc: 0.9732 - val_loss: 0.0581 - val_acc: 0.9794\n",
      "Epoch 2/20\n",
      "111699/111699 [==============================] - 6190s 55ms/step - loss: 0.0595 - acc: 0.9794 - val_loss: 0.0527 - val_acc: 0.9811\n",
      "Epoch 3/20\n",
      "111699/111699 [==============================] - 6494s 58ms/step - loss: 0.0564 - acc: 0.9802 - val_loss: 0.0518 - val_acc: 0.9813\n",
      "Epoch 4/20\n",
      "111699/111699 [==============================] - 2857s 26ms/step - loss: 0.0535 - acc: 0.9807 - val_loss: 0.0507 - val_acc: 0.9815\n",
      "Epoch 6/20\n",
      "111699/111699 [==============================] - 2870s 26ms/step - loss: 0.0523 - acc: 0.9811 - val_loss: 0.0498 - val_acc: 0.9819\n",
      "Epoch 7/20\n",
      "111699/111699 [==============================] - 2862s 26ms/step - loss: 0.0519 - acc: 0.9814 - val_loss: 0.0500 - val_acc: 0.9818\n",
      "Epoch 8/20\n",
      "111699/111699 [==============================] - 2859s 26ms/step - loss: 0.0512 - acc: 0.9814 - val_loss: 0.0490 - val_acc: 0.9821\n",
      "Epoch 9/20\n",
      "111699/111699 [==============================] - 2890s 26ms/step - loss: 0.0504 - acc: 0.9817 - val_loss: 0.0490 - val_acc: 0.9820\n",
      "Epoch 10/20\n",
      "111699/111699 [==============================] - 2860s 26ms/step - loss: 0.0500 - acc: 0.9817 - val_loss: 0.0487 - val_acc: 0.9822\n",
      "Epoch 11/20\n",
      "111699/111699 [==============================] - 2858s 26ms/step - loss: 0.0497 - acc: 0.9817 - val_loss: 0.0489 - val_acc: 0.9820\n",
      "Epoch 12/20\n",
      "111699/111699 [==============================] - 2849s 26ms/step - loss: 0.0492 - acc: 0.9819 - val_loss: 0.0488 - val_acc: 0.9820\n",
      "Epoch 13/20\n",
      "111699/111699 [==============================] - 2850s 26ms/step - loss: 0.0481 - acc: 0.9823 - val_loss: 0.0484 - val_acc: 0.9820\n",
      "Epoch 16/20\n",
      "111699/111699 [==============================] - 2851s 26ms/step - loss: 0.0479 - acc: 0.9823 - val_loss: 0.0481 - val_acc: 0.9821\n",
      "Epoch 17/20\n",
      "111699/111699 [==============================] - 2852s 26ms/step - loss: 0.0477 - acc: 0.9823 - val_loss: 0.0476 - val_acc: 0.9823\n",
      "Epoch 18/20\n",
      "111699/111699 [==============================] - 2848s 25ms/step - loss: 0.0474 - acc: 0.9822 - val_loss: 0.0481 - val_acc: 0.9821\n",
      "Epoch 19/20\n",
      " 99250/111699 [=========================>....] - ETA: 4:37 - loss: 0.0470 - acc: 0.9825"
     ]
    }
   ],
   "source": [
    "model.fit(x_train_texts, y_train, validation_data=(x_dev_texts, y_dev),\n",
    "          epochs=20, batch_size=50)"
   ]
  },
  {
   "cell_type": "code",
   "execution_count": 19,
   "metadata": {},
   "outputs": [
    {
     "name": "stdout",
     "output_type": "stream",
     "text": [
      "Saved model to disk\n"
     ]
    }
   ],
   "source": [
    "model_json = model.to_json()\n",
    "with open(MODEL_PATH + \"keras_lstm_fancy_classification_model.json\", \"w\") as json_file:\n",
    "    json_file.write(model_json)\n",
    "# serialize weights to HDF5\n",
    "model.save_weights(MODEL_PATH + \"keras_lstm_fancy_classification_model.h5\")\n",
    "print(\"Saved model to disk\")"
   ]
  },
  {
   "cell_type": "code",
   "execution_count": 21,
   "metadata": {},
   "outputs": [
    {
     "name": "stdout",
     "output_type": "stream",
     "text": [
      "47872/47872 [==============================] - 437s 9ms/step\n"
     ]
    },
    {
     "data": {
      "text/plain": [
       "[0.04734471793094137, 0.9824184137869646]"
      ]
     },
     "execution_count": 21,
     "metadata": {},
     "output_type": "execute_result"
    }
   ],
   "source": [
    "model.evaluate(x_dev_texts, y_dev)"
   ]
  },
  {
   "cell_type": "code",
   "execution_count": 30,
   "metadata": {},
   "outputs": [
    {
     "name": "stdout",
     "output_type": "stream",
     "text": [
      "47872/47872 [==============================] - 408s 9ms/step\n"
     ]
    }
   ],
   "source": [
    "X_dev = pickle.load(open(DATA_PATH + \"X_dev.p\", \"rb\"))\n",
    "x_dev_texts = tokenizer.texts_to_sequences(X_dev['comment_text'])\n",
    "x_dev_texts = pad_sequences(x_dev_texts, maxlen=max_length, padding='post')\n",
    "pred = model.predict(x_dev_texts, verbose = True)"
   ]
  },
  {
   "cell_type": "code",
   "execution_count": 31,
   "metadata": {},
   "outputs": [],
   "source": [
    "pickle.dump(pred, open(\"../submissions/DEV_\" + model_name + \".p\", \"wb\"))"
   ]
  },
  {
   "cell_type": "code",
   "execution_count": 25,
   "metadata": {},
   "outputs": [],
   "source": [
    "model_name = 'keras_lstm_fancy_classification_model'\n",
    "X_official_test = pd.read_csv(\"../data/raw/test.csv\")\n",
    "x_test_texts = tokenizer.texts_to_sequences(X_official_test['comment_text'])\n",
    "x_test_texts = pad_sequences(x_test_texts, maxlen=max_length, padding='post')\n",
    "pred = model.predict(x_test_texts)\n",
    "list_classes = [\"toxic\", \"severe_toxic\", \"obscene\", \"threat\", \"insult\", \"identity_hate\"]\n",
    "sample_submission = pd.read_csv('../submissions/sample_submission.csv')\n",
    "sample_submission[list_classes] = pred\n",
    "sample_submission.to_csv(\"../submissions/\" + model_name + \".csv\", index=False)"
   ]
  }
 ],
 "metadata": {
  "kernelspec": {
   "display_name": "Python 3",
   "language": "python",
   "name": "python3"
  },
  "language_info": {
   "codemirror_mode": {
    "name": "ipython",
    "version": 3
   },
   "file_extension": ".py",
   "mimetype": "text/x-python",
   "name": "python",
   "nbconvert_exporter": "python",
   "pygments_lexer": "ipython3",
   "version": "3.5.2"
  }
 },
 "nbformat": 4,
 "nbformat_minor": 2
}
