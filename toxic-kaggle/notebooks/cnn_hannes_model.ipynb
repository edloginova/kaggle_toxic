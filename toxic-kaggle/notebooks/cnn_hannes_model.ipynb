{
 "cells": [
  {
   "cell_type": "code",
   "execution_count": 1,
   "metadata": {},
   "outputs": [
    {
     "name": "stderr",
     "output_type": "stream",
     "text": [
      "/usr/local/lib/python3.5/dist-packages/h5py/__init__.py:36: FutureWarning: Conversion of the second argument of issubdtype from `float` to `np.floating` is deprecated. In future, it will be treated as `np.float64 == np.dtype(float).type`.\n",
      "  from ._conv import register_converters as _register_converters\n",
      "Using TensorFlow backend.\n"
     ]
    }
   ],
   "source": [
    "import logging\n",
    "import pickle\n",
    "from sklearn import metrics\n",
    "from sklearn.metrics import f1_score\n",
    "import keras\n",
    "from keras.models import Model, Sequential\n",
    "from keras.layers import *\n",
    "from keras.preprocessing.text import one_hot\n",
    "from keras.optimizers import Adam\n",
    "from tqdm import tnrange, tqdm_notebook\n",
    "from keras.layers.advanced_activations import LeakyReLU\n",
    "from keras.preprocessing.sequence import pad_sequences\n",
    "from keras.preprocessing.text import Tokenizer\n",
    "from sklearn.utils import class_weight\n",
    "from keras.callbacks import *"
   ]
  },
  {
   "cell_type": "code",
   "execution_count": 2,
   "metadata": {},
   "outputs": [],
   "source": [
    "import tensorflow as tf\n",
    "from keras.backend.tensorflow_backend import set_session\n",
    "config = tf.ConfigProto()\n",
    "config.gpu_options.per_process_gpu_memory_fraction = 0.3\n",
    "set_session(tf.Session(config=config))"
   ]
  },
  {
   "cell_type": "markdown",
   "metadata": {},
   "source": [
    "Things to include:\n",
    "* bias initialization with 1\n",
    "* dropout (recurrent?) https://github.com/tensorflow/tensorflow/blob/v1.3.0/tensorflow/contrib/keras/python/keras/layers/recurrent.py#L140 \n",
    "* Adam / SGD with learning rate annealing + momentum\n",
    "* self-attention\n",
    "* Bayesian Optimization for hyperparameters\n",
    "* Gradient norm clipping"
   ]
  },
  {
   "cell_type": "code",
   "execution_count": 3,
   "metadata": {},
   "outputs": [],
   "source": [
    "MODEL_PATH = \"../models/\""
   ]
  },
  {
   "cell_type": "code",
   "execution_count": 4,
   "metadata": {},
   "outputs": [],
   "source": [
    "DATA_PATH = \"../data/\"\n",
    "X_train = pickle.load(open(DATA_PATH + \"X_train.p\", \"rb\"))\n",
    "X_dev = pickle.load(open(DATA_PATH + \"X_dev.p\", \"rb\"))\n",
    "y_train = pickle.load(open(DATA_PATH + \"y_train.p\", \"rb\"))\n",
    "y_dev = pickle.load(open(DATA_PATH + \"y_dev.p\", \"rb\"))"
   ]
  },
  {
   "cell_type": "code",
   "execution_count": 5,
   "metadata": {},
   "outputs": [
    {
     "data": {
      "text/plain": [
       "(111699, 6)"
      ]
     },
     "execution_count": 5,
     "metadata": {},
     "output_type": "execute_result"
    }
   ],
   "source": [
    "y_train.shape"
   ]
  },
  {
   "cell_type": "code",
   "execution_count": 6,
   "metadata": {},
   "outputs": [],
   "source": [
    "train_text = X_train['comment_text']"
   ]
  },
  {
   "cell_type": "code",
   "execution_count": 7,
   "metadata": {},
   "outputs": [],
   "source": [
    "tokenizer = Tokenizer(num_words=18400)\n",
    "tokenizer.fit_on_texts(train_text)\n",
    "sequences = tokenizer.texts_to_sequences(train_text)"
   ]
  },
  {
   "cell_type": "code",
   "execution_count": 8,
   "metadata": {},
   "outputs": [],
   "source": [
    "word_index = tokenizer.word_index\n",
    "embeddings_index = {}\n",
    "f = open('../../../embeddings/glove.6B.300d.txt')\n",
    "for line in f:\n",
    "    values = line.split()\n",
    "    word = values[0]\n",
    "    coefs = np.asarray(values[1:], dtype='float32')\n",
    "    embeddings_index[word] = coefs\n",
    "f.close()"
   ]
  },
  {
   "cell_type": "code",
   "execution_count": 9,
   "metadata": {},
   "outputs": [
    {
     "name": "stdout",
     "output_type": "stream",
     "text": [
      "Found 400000 word vectors.\n"
     ]
    }
   ],
   "source": [
    "print('Found %s word vectors.' % len(embeddings_index))\n",
    "embedding_matrix = np.zeros((len(word_index) + 1, 300))\n",
    "for word, i in word_index.items():\n",
    "    embedding_vector = embeddings_index.get(word)\n",
    "    if embedding_vector is not None:\n",
    "        # words not found in embedding index will be all-zeros.\n",
    "        embedding_matrix[i] = embedding_vector\n",
    "embedding_size = 300\n",
    "embedding_layer = Embedding(embedding_matrix.shape[0],\n",
    "                            embedding_size,\n",
    "                            weights=[embedding_matrix],\n",
    "                            input_length=200, trainable = False)"
   ]
  },
  {
   "cell_type": "code",
   "execution_count": 10,
   "metadata": {},
   "outputs": [],
   "source": [
    "max_length = 200\n",
    "\n",
    "x_train_texts = tokenizer.texts_to_sequences(X_train['comment_text'])\n",
    "x_train_texts = pad_sequences(x_train_texts, maxlen=max_length, padding='post')\n",
    "\n",
    "x_dev_texts = tokenizer.texts_to_sequences(X_dev['comment_text'])\n",
    "x_dev_texts = pad_sequences(x_dev_texts, maxlen=max_length, padding='post')"
   ]
  },
  {
   "cell_type": "code",
   "execution_count": 29,
   "metadata": {},
   "outputs": [
    {
     "name": "stdout",
     "output_type": "stream",
     "text": [
      "__________________________________________________________________________________________________\n",
      "Layer (type)                    Output Shape         Param #     Connected to                     \n",
      "==================================================================================================\n",
      "input_90 (InputLayer)           (None, 200)          0                                            \n",
      "__________________________________________________________________________________________________\n",
      "model_67 (Model)                (None, 6)            51564058    input_90[0][0]                   \n",
      "__________________________________________________________________________________________________\n",
      "model_68 (Model)                (None, 6)            51564058    input_90[0][0]                   \n",
      "__________________________________________________________________________________________________\n",
      "model_69 (Model)                (None, 6)            51564058    input_90[0][0]                   \n",
      "__________________________________________________________________________________________________\n",
      "model_70 (Model)                (None, 6)            51564058    input_90[0][0]                   \n",
      "__________________________________________________________________________________________________\n",
      "model_71 (Model)                (None, 6)            51564058    input_90[0][0]                   \n",
      "__________________________________________________________________________________________________\n",
      "model_72 (Model)                (None, 6)            51564058    input_90[0][0]                   \n",
      "__________________________________________________________________________________________________\n",
      "model_73 (Model)                (None, 6)            51564058    input_90[0][0]                   \n",
      "__________________________________________________________________________________________________\n",
      "model_74 (Model)                (None, 6)            51564058    input_90[0][0]                   \n",
      "__________________________________________________________________________________________________\n",
      "model_75 (Model)                (None, 6)            51564058    input_90[0][0]                   \n",
      "__________________________________________________________________________________________________\n",
      "model_76 (Model)                (None, 6)            51564058    input_90[0][0]                   \n",
      "__________________________________________________________________________________________________\n",
      "model_77 (Model)                (None, 6)            51564058    input_90[0][0]                   \n",
      "__________________________________________________________________________________________________\n",
      "model_78 (Model)                (None, 6)            51564058    input_90[0][0]                   \n",
      "__________________________________________________________________________________________________\n",
      "model_79 (Model)                (None, 6)            51564058    input_90[0][0]                   \n",
      "__________________________________________________________________________________________________\n",
      "model_80 (Model)                (None, 6)            51564058    input_90[0][0]                   \n",
      "__________________________________________________________________________________________________\n",
      "model_81 (Model)                (None, 6)            51564058    input_90[0][0]                   \n",
      "__________________________________________________________________________________________________\n",
      "model_82 (Model)                (None, 6)            51564058    input_90[0][0]                   \n",
      "__________________________________________________________________________________________________\n",
      "model_83 (Model)                (None, 6)            51564058    input_90[0][0]                   \n",
      "__________________________________________________________________________________________________\n",
      "model_84 (Model)                (None, 6)            51564058    input_90[0][0]                   \n",
      "__________________________________________________________________________________________________\n",
      "model_85 (Model)                (None, 6)            51564058    input_90[0][0]                   \n",
      "__________________________________________________________________________________________________\n",
      "model_86 (Model)                (None, 6)            51564058    input_90[0][0]                   \n",
      "__________________________________________________________________________________________________\n",
      "model_87 (Model)                (None, 6)            51564058    input_90[0][0]                   \n",
      "__________________________________________________________________________________________________\n",
      "average_5 (Average)             (None, 6)            0           model_67[1][0]                   \n",
      "                                                                 model_68[1][0]                   \n",
      "                                                                 model_69[1][0]                   \n",
      "                                                                 model_70[1][0]                   \n",
      "                                                                 model_71[1][0]                   \n",
      "                                                                 model_72[1][0]                   \n",
      "                                                                 model_73[1][0]                   \n",
      "                                                                 model_74[1][0]                   \n",
      "                                                                 model_75[1][0]                   \n",
      "                                                                 model_76[1][0]                   \n",
      "                                                                 model_77[1][0]                   \n",
      "                                                                 model_78[1][0]                   \n",
      "                                                                 model_79[1][0]                   \n",
      "                                                                 model_80[1][0]                   \n",
      "                                                                 model_81[1][0]                   \n",
      "                                                                 model_82[1][0]                   \n",
      "                                                                 model_83[1][0]                   \n",
      "                                                                 model_84[1][0]                   \n",
      "                                                                 model_85[1][0]                   \n",
      "                                                                 model_86[1][0]                   \n",
      "                                                                 model_87[1][0]                   \n",
      "==================================================================================================\n",
      "Total params: 69,859,218\n",
      "Trainable params: 19,209,918\n",
      "Non-trainable params: 50,649,300\n",
      "__________________________________________________________________________________________________\n"
     ]
    }
   ],
   "source": [
    "batch_norm = False\n",
    "num_ensembles = 21\n",
    "\n",
    "def create_conv_model():\n",
    "    sequence_input = Input(shape=(max_length,), dtype='int32')\n",
    "    embedded_sequences = embedding_layer(sequence_input)\n",
    "    conv1 = Conv1D(64, 5, padding='same', activation='tanh', input_shape=(max_length, embedding_size))(embedded_sequences)\n",
    "    pool1 = MaxPooling1D(pool_size=2)(conv1)\n",
    "    batch_norm\n",
    "    if batch_norm: pool1 = BatchNormalization()(pool1)\n",
    "    conv2 = Conv1D(128, 5, activation='tanh')(pool1)\n",
    "    pool2 = MaxPooling1D(pool_size=2)(conv2)\n",
    "    if batch_norm: pool2 = BatchNormalization()(pool2)\n",
    "    conv3 = Conv1D(128, 3, activation='tanh')(pool2)\n",
    "    pool3 = MaxPooling1D(pool_size=2)(conv3)\n",
    "    if batch_norm: pool3 = BatchNormalization()(pool3)\n",
    "    conv4 = Conv1D(128, 2, activation='tanh')(pool3)\n",
    "    pool4 = MaxPooling1D(pool_size=2)(conv4)\n",
    "    if batch_norm: pool4 = BatchNormalization()(pool4)\n",
    "    conv5 = Conv1D(128, 2, activation='tanh')(pool4)\n",
    "    pool5 = MaxPooling1D(pool_size=2)(conv5)\n",
    "    flatten = Flatten()(pool5)\n",
    "    dense = Dense(1024, activation='tanh')(flatten)\n",
    "    output = Dense(units=6, activation='sigmoid')(dense)\n",
    "    return Model(sequence_input, output)\n",
    "\n",
    "conv_models = [create_conv_model() for i in range(0,num_ensembles)]\n",
    "\n",
    "\n",
    "ensemble_input = Input(shape=(max_length,))\n",
    "averaged = keras.layers.average([conv_model(ensemble_input) for conv_model in conv_models])\n",
    "ensemble_cnn = Model(inputs=[ensemble_input], outputs=[averaged])\n",
    "ensemble_cnn.compile(loss='binary_crossentropy',\n",
    "              optimizer='adam',\n",
    "              metrics=['acc'])    \n",
    "\n",
    "\n",
    "ensemble_cnn.summary()"
   ]
  },
  {
   "cell_type": "code",
   "execution_count": null,
   "metadata": {},
   "outputs": [],
   "source": []
  },
  {
   "cell_type": "code",
   "execution_count": 30,
   "metadata": {
    "scrolled": true
   },
   "outputs": [
    {
     "name": "stdout",
     "output_type": "stream",
     "text": [
      "Train on 111699 samples, validate on 47872 samples\n",
      "Epoch 1/10\n",
      "111699/111699 [==============================] - 34s 301us/step - loss: 0.0716 - acc: 0.9762 - val_loss: 0.0626 - val_acc: 0.9783\n",
      "Epoch 2/10\n",
      "111699/111699 [==============================] - 25s 221us/step - loss: 0.0585 - acc: 0.9797 - val_loss: 0.0618 - val_acc: 0.9784\n",
      "Epoch 3/10\n",
      "111699/111699 [==============================] - 25s 221us/step - loss: 0.0548 - acc: 0.9807 - val_loss: 0.0611 - val_acc: 0.9794\n",
      "Epoch 4/10\n",
      "111699/111699 [==============================] - 25s 222us/step - loss: 0.0517 - acc: 0.9816 - val_loss: 0.0579 - val_acc: 0.9793\n",
      "Epoch 5/10\n",
      "111699/111699 [==============================] - 25s 219us/step - loss: 0.0487 - acc: 0.9822 - val_loss: 0.0592 - val_acc: 0.9799\n",
      "Epoch 6/10\n",
      "111699/111699 [==============================] - 25s 222us/step - loss: 0.0468 - acc: 0.9826 - val_loss: 0.0604 - val_acc: 0.9790\n",
      "Train on 111699 samples, validate on 47872 samples\n",
      "Epoch 1/10\n",
      "111699/111699 [==============================] - 28s 250us/step - loss: 0.0730 - acc: 0.9758 - val_loss: 0.0633 - val_acc: 0.9788\n",
      "Epoch 2/10\n",
      "111699/111699 [==============================] - 25s 222us/step - loss: 0.0586 - acc: 0.9795 - val_loss: 0.0585 - val_acc: 0.9782\n",
      "Epoch 3/10\n",
      "111699/111699 [==============================] - 25s 222us/step - loss: 0.0553 - acc: 0.9805 - val_loss: 0.0593 - val_acc: 0.9784\n",
      "Epoch 4/10\n",
      "111699/111699 [==============================] - 25s 224us/step - loss: 0.0515 - acc: 0.9814 - val_loss: 0.0564 - val_acc: 0.9793\n",
      "Epoch 5/10\n",
      "111699/111699 [==============================] - 25s 225us/step - loss: 0.0507 - acc: 0.9815 - val_loss: 0.0602 - val_acc: 0.9788\n",
      "Epoch 6/10\n",
      "111699/111699 [==============================] - 25s 220us/step - loss: 0.0469 - acc: 0.9828 - val_loss: 0.0621 - val_acc: 0.9795\n",
      "Train on 111699 samples, validate on 47872 samples\n",
      "Epoch 1/10\n",
      "111699/111699 [==============================] - 28s 248us/step - loss: 0.0741 - acc: 0.9755 - val_loss: 0.0625 - val_acc: 0.9788\n",
      "Epoch 2/10\n",
      "111699/111699 [==============================] - 25s 223us/step - loss: 0.0590 - acc: 0.9793 - val_loss: 0.0660 - val_acc: 0.9783\n",
      "Epoch 3/10\n",
      "111699/111699 [==============================] - 25s 224us/step - loss: 0.0552 - acc: 0.9804 - val_loss: 0.0564 - val_acc: 0.9798\n",
      "Epoch 4/10\n",
      "111699/111699 [==============================] - 25s 225us/step - loss: 0.0518 - acc: 0.9814 - val_loss: 0.0581 - val_acc: 0.9796\n",
      "Epoch 5/10\n",
      "111699/111699 [==============================] - 25s 223us/step - loss: 0.0490 - acc: 0.9821 - val_loss: 0.0605 - val_acc: 0.9791\n",
      "Train on 111699 samples, validate on 47872 samples\n",
      "Epoch 1/10\n",
      "111699/111699 [==============================] - 28s 251us/step - loss: 0.0714 - acc: 0.9763 - val_loss: 0.0584 - val_acc: 0.9793\n",
      "Epoch 2/10\n",
      "111699/111699 [==============================] - 25s 224us/step - loss: 0.0589 - acc: 0.9795 - val_loss: 0.0614 - val_acc: 0.9791\n",
      "Epoch 3/10\n",
      "111699/111699 [==============================] - 25s 225us/step - loss: 0.0541 - acc: 0.9806 - val_loss: 0.0584 - val_acc: 0.9797\n",
      "Epoch 4/10\n",
      "111699/111699 [==============================] - 25s 224us/step - loss: 0.0511 - acc: 0.9816 - val_loss: 0.0594 - val_acc: 0.9785\n",
      "Epoch 5/10\n",
      "111699/111699 [==============================] - 25s 222us/step - loss: 0.0484 - acc: 0.9823 - val_loss: 0.0572 - val_acc: 0.9792\n",
      "Epoch 6/10\n",
      "111699/111699 [==============================] - 25s 222us/step - loss: 0.0460 - acc: 0.9831 - val_loss: 0.0582 - val_acc: 0.9800\n",
      "Epoch 7/10\n",
      "111699/111699 [==============================] - 25s 224us/step - loss: 0.0433 - acc: 0.9838 - val_loss: 0.0595 - val_acc: 0.9797\n",
      "Train on 111699 samples, validate on 47872 samples\n",
      "Epoch 1/10\n",
      "111699/111699 [==============================] - 28s 252us/step - loss: 0.0726 - acc: 0.9762 - val_loss: 0.0617 - val_acc: 0.9790\n",
      "Epoch 2/10\n",
      "111699/111699 [==============================] - 25s 224us/step - loss: 0.0585 - acc: 0.9796 - val_loss: 0.0578 - val_acc: 0.9801\n",
      "Epoch 3/10\n",
      "111699/111699 [==============================] - 25s 224us/step - loss: 0.0545 - acc: 0.9807 - val_loss: 0.0640 - val_acc: 0.9746\n",
      "Epoch 4/10\n",
      "111699/111699 [==============================] - 25s 223us/step - loss: 0.0514 - acc: 0.9815 - val_loss: 0.0565 - val_acc: 0.9802\n",
      "Epoch 5/10\n",
      "111699/111699 [==============================] - 25s 227us/step - loss: 0.0486 - acc: 0.9823 - val_loss: 0.0570 - val_acc: 0.9795\n",
      "Epoch 6/10\n",
      "111699/111699 [==============================] - 25s 224us/step - loss: 0.0460 - acc: 0.9830 - val_loss: 0.0617 - val_acc: 0.9775\n",
      "Train on 111699 samples, validate on 47872 samples\n",
      "Epoch 1/10\n",
      "111699/111699 [==============================] - 28s 252us/step - loss: 0.0715 - acc: 0.9761 - val_loss: 0.0595 - val_acc: 0.9789\n",
      "Epoch 2/10\n",
      "111699/111699 [==============================] - 25s 224us/step - loss: 0.0582 - acc: 0.9795 - val_loss: 0.0599 - val_acc: 0.9794\n",
      "Epoch 3/10\n",
      "111699/111699 [==============================] - 25s 223us/step - loss: 0.0546 - acc: 0.9806 - val_loss: 0.0570 - val_acc: 0.9788\n",
      "Epoch 4/10\n",
      "111699/111699 [==============================] - 25s 223us/step - loss: 0.0518 - acc: 0.9814 - val_loss: 0.0581 - val_acc: 0.9806\n",
      "Epoch 5/10\n",
      "111699/111699 [==============================] - 25s 222us/step - loss: 0.0491 - acc: 0.9822 - val_loss: 0.0567 - val_acc: 0.9799\n",
      "Epoch 6/10\n",
      "111699/111699 [==============================] - 25s 224us/step - loss: 0.0461 - acc: 0.9831 - val_loss: 0.0612 - val_acc: 0.9801\n",
      "Epoch 7/10\n",
      "111699/111699 [==============================] - 25s 224us/step - loss: 0.0445 - acc: 0.9833 - val_loss: 0.0599 - val_acc: 0.9790\n",
      "Train on 111699 samples, validate on 47872 samples\n",
      "Epoch 1/10\n",
      "111699/111699 [==============================] - 28s 251us/step - loss: 0.0725 - acc: 0.9758 - val_loss: 0.0606 - val_acc: 0.9784\n",
      "Epoch 2/10\n",
      "111699/111699 [==============================] - 25s 223us/step - loss: 0.0582 - acc: 0.9796 - val_loss: 0.0573 - val_acc: 0.9801\n",
      "Epoch 3/10\n",
      "111699/111699 [==============================] - 25s 227us/step - loss: 0.0541 - acc: 0.9807 - val_loss: 0.0568 - val_acc: 0.9794\n",
      "Epoch 4/10\n",
      "111699/111699 [==============================] - 25s 224us/step - loss: 0.0512 - acc: 0.9816 - val_loss: 0.0570 - val_acc: 0.9805\n",
      "Epoch 5/10\n",
      "111699/111699 [==============================] - 25s 225us/step - loss: 0.0488 - acc: 0.9823 - val_loss: 0.0599 - val_acc: 0.9803\n",
      "Train on 111699 samples, validate on 47872 samples\n",
      "Epoch 1/10\n",
      "111699/111699 [==============================] - 28s 253us/step - loss: 0.0714 - acc: 0.9760 - val_loss: 0.0622 - val_acc: 0.9774\n",
      "Epoch 2/10\n",
      "111699/111699 [==============================] - 25s 227us/step - loss: 0.0585 - acc: 0.9795 - val_loss: 0.0565 - val_acc: 0.9800\n",
      "Epoch 3/10\n",
      "111699/111699 [==============================] - 25s 227us/step - loss: 0.0546 - acc: 0.9806 - val_loss: 0.0599 - val_acc: 0.9796\n",
      "Epoch 4/10\n",
      "111699/111699 [==============================] - 25s 223us/step - loss: 0.0518 - acc: 0.9813 - val_loss: 0.0618 - val_acc: 0.9769\n",
      "Train on 111699 samples, validate on 47872 samples\n",
      "Epoch 1/10\n",
      "111699/111699 [==============================] - 29s 257us/step - loss: 0.0716 - acc: 0.9759 - val_loss: 0.0589 - val_acc: 0.9794\n",
      "Epoch 2/10\n",
      "111699/111699 [==============================] - 25s 222us/step - loss: 0.0583 - acc: 0.9795 - val_loss: 0.0612 - val_acc: 0.9790\n",
      "Epoch 3/10\n",
      "111699/111699 [==============================] - 25s 223us/step - loss: 0.0543 - acc: 0.9806 - val_loss: 0.0615 - val_acc: 0.9794\n",
      "Train on 111699 samples, validate on 47872 samples\n",
      "Epoch 1/10\n",
      "111699/111699 [==============================] - 29s 258us/step - loss: 0.0731 - acc: 0.9758 - val_loss: 0.0647 - val_acc: 0.9783\n",
      "Epoch 2/10\n",
      "111699/111699 [==============================] - 25s 227us/step - loss: 0.0581 - acc: 0.9796 - val_loss: 0.0604 - val_acc: 0.9800\n",
      "Epoch 3/10\n",
      "111699/111699 [==============================] - 25s 228us/step - loss: 0.0545 - acc: 0.9806 - val_loss: 0.0578 - val_acc: 0.9788\n",
      "Epoch 4/10\n",
      "111699/111699 [==============================] - 25s 226us/step - loss: 0.0512 - acc: 0.9814 - val_loss: 0.0578 - val_acc: 0.9795\n",
      "Epoch 5/10\n",
      "111699/111699 [==============================] - 25s 225us/step - loss: 0.0491 - acc: 0.9820 - val_loss: 0.0554 - val_acc: 0.9803\n",
      "Epoch 6/10\n"
     ]
    },
    {
     "name": "stdout",
     "output_type": "stream",
     "text": [
      "111699/111699 [==============================] - 25s 223us/step - loss: 0.0459 - acc: 0.9829 - val_loss: 0.0580 - val_acc: 0.9789\n",
      "Epoch 7/10\n",
      "111699/111699 [==============================] - 25s 226us/step - loss: 0.0440 - acc: 0.9836 - val_loss: 0.0593 - val_acc: 0.9789\n",
      "Train on 111699 samples, validate on 47872 samples\n",
      "Epoch 1/10\n",
      "111699/111699 [==============================] - 29s 257us/step - loss: 0.0702 - acc: 0.9765 - val_loss: 0.0658 - val_acc: 0.9773\n",
      "Epoch 2/10\n",
      "111699/111699 [==============================] - 25s 226us/step - loss: 0.0587 - acc: 0.9796 - val_loss: 0.0595 - val_acc: 0.9793\n",
      "Epoch 3/10\n",
      "111699/111699 [==============================] - 26s 230us/step - loss: 0.0551 - acc: 0.9804 - val_loss: 0.0558 - val_acc: 0.9795\n",
      "Epoch 4/10\n",
      "111699/111699 [==============================] - 25s 226us/step - loss: 0.0513 - acc: 0.9815 - val_loss: 0.0585 - val_acc: 0.9789\n",
      "Epoch 5/10\n",
      "111699/111699 [==============================] - 25s 228us/step - loss: 0.0488 - acc: 0.9820 - val_loss: 0.0606 - val_acc: 0.9801\n",
      "Train on 111699 samples, validate on 47872 samples\n",
      "Epoch 1/10\n",
      "111699/111699 [==============================] - 29s 258us/step - loss: 0.0724 - acc: 0.9759 - val_loss: 0.0589 - val_acc: 0.9797\n",
      "Epoch 2/10\n",
      "111699/111699 [==============================] - 25s 225us/step - loss: 0.0592 - acc: 0.9794 - val_loss: 0.0584 - val_acc: 0.9791\n",
      "Epoch 3/10\n",
      "111699/111699 [==============================] - 25s 226us/step - loss: 0.0544 - acc: 0.9806 - val_loss: 0.0578 - val_acc: 0.9801\n",
      "Epoch 4/10\n",
      "111699/111699 [==============================] - 25s 224us/step - loss: 0.0512 - acc: 0.9816 - val_loss: 0.0581 - val_acc: 0.9800\n",
      "Epoch 5/10\n",
      "111699/111699 [==============================] - 25s 228us/step - loss: 0.0483 - acc: 0.9824 - val_loss: 0.0569 - val_acc: 0.9802\n",
      "Epoch 6/10\n",
      "111699/111699 [==============================] - 25s 228us/step - loss: 0.0458 - acc: 0.9830 - val_loss: 0.0581 - val_acc: 0.9801\n",
      "Epoch 7/10\n",
      "111699/111699 [==============================] - 25s 227us/step - loss: 0.0430 - acc: 0.9839 - val_loss: 0.0597 - val_acc: 0.9796\n",
      "Train on 111699 samples, validate on 47872 samples\n",
      "Epoch 1/10\n",
      "111699/111699 [==============================] - 29s 261us/step - loss: 0.0719 - acc: 0.9760 - val_loss: 0.0673 - val_acc: 0.9775\n",
      "Epoch 2/10\n",
      "111699/111699 [==============================] - 25s 228us/step - loss: 0.0585 - acc: 0.9794 - val_loss: 0.0597 - val_acc: 0.9787\n",
      "Epoch 3/10\n",
      "111699/111699 [==============================] - 25s 223us/step - loss: 0.0544 - acc: 0.9808 - val_loss: 0.0585 - val_acc: 0.9803\n",
      "Epoch 4/10\n",
      "111699/111699 [==============================] - 25s 227us/step - loss: 0.0515 - acc: 0.9814 - val_loss: 0.0565 - val_acc: 0.9799\n",
      "Epoch 5/10\n",
      "111699/111699 [==============================] - 25s 228us/step - loss: 0.0486 - acc: 0.9823 - val_loss: 0.0617 - val_acc: 0.9803\n",
      "Epoch 6/10\n",
      "111699/111699 [==============================] - 25s 226us/step - loss: 0.0463 - acc: 0.9830 - val_loss: 0.0616 - val_acc: 0.9797\n",
      "Train on 111699 samples, validate on 47872 samples\n",
      "Epoch 1/10\n",
      "111699/111699 [==============================] - 29s 262us/step - loss: 0.0736 - acc: 0.9755 - val_loss: 0.0589 - val_acc: 0.9798\n",
      "Epoch 2/10\n",
      "111699/111699 [==============================] - 26s 229us/step - loss: 0.0580 - acc: 0.9798 - val_loss: 0.0636 - val_acc: 0.9776\n",
      "Epoch 3/10\n",
      "111699/111699 [==============================] - 26s 229us/step - loss: 0.0541 - acc: 0.9807 - val_loss: 0.0561 - val_acc: 0.9798\n",
      "Epoch 4/10\n",
      "111699/111699 [==============================] - 26s 229us/step - loss: 0.0513 - acc: 0.9816 - val_loss: 0.0607 - val_acc: 0.9801\n",
      "Epoch 5/10\n",
      "111699/111699 [==============================] - 25s 227us/step - loss: 0.0489 - acc: 0.9821 - val_loss: 0.0625 - val_acc: 0.9766\n",
      "Train on 111699 samples, validate on 47872 samples\n",
      "Epoch 1/10\n",
      "111699/111699 [==============================] - 29s 262us/step - loss: 0.0714 - acc: 0.9762 - val_loss: 0.0590 - val_acc: 0.9791\n",
      "Epoch 2/10\n",
      "111699/111699 [==============================] - 25s 228us/step - loss: 0.0579 - acc: 0.9797 - val_loss: 0.0585 - val_acc: 0.9787\n",
      "Epoch 3/10\n",
      "111699/111699 [==============================] - 26s 232us/step - loss: 0.0541 - acc: 0.9809 - val_loss: 0.0693 - val_acc: 0.9789\n",
      "Epoch 4/10\n",
      "111699/111699 [==============================] - 25s 227us/step - loss: 0.0530 - acc: 0.9811 - val_loss: 0.0562 - val_acc: 0.9799\n",
      "Epoch 5/10\n",
      "111699/111699 [==============================] - 26s 229us/step - loss: 0.0487 - acc: 0.9821 - val_loss: 0.0542 - val_acc: 0.9804\n",
      "Epoch 6/10\n",
      "111699/111699 [==============================] - 25s 227us/step - loss: 0.0462 - acc: 0.9830 - val_loss: 0.0620 - val_acc: 0.9774\n",
      "Epoch 7/10\n",
      "111699/111699 [==============================] - 26s 229us/step - loss: 0.0443 - acc: 0.9836 - val_loss: 0.0622 - val_acc: 0.9787\n",
      "Train on 111699 samples, validate on 47872 samples\n",
      "Epoch 1/10\n",
      "111699/111699 [==============================] - 29s 263us/step - loss: 0.0734 - acc: 0.9759 - val_loss: 0.0623 - val_acc: 0.9773\n",
      "Epoch 2/10\n",
      "111699/111699 [==============================] - 26s 231us/step - loss: 0.0586 - acc: 0.9795 - val_loss: 0.0567 - val_acc: 0.9800\n",
      "Epoch 3/10\n",
      "111699/111699 [==============================] - 25s 228us/step - loss: 0.0541 - acc: 0.9807 - val_loss: 0.0639 - val_acc: 0.9787\n",
      "Epoch 4/10\n",
      "111699/111699 [==============================] - 25s 227us/step - loss: 0.0518 - acc: 0.9814 - val_loss: 0.0596 - val_acc: 0.9795\n",
      "Train on 111699 samples, validate on 47872 samples\n",
      "Epoch 1/10\n",
      "111699/111699 [==============================] - 29s 263us/step - loss: 0.0725 - acc: 0.9761 - val_loss: 0.0612 - val_acc: 0.9793\n",
      "Epoch 2/10\n",
      "111699/111699 [==============================] - 26s 229us/step - loss: 0.0586 - acc: 0.9796 - val_loss: 0.0591 - val_acc: 0.9787\n",
      "Epoch 3/10\n",
      "111699/111699 [==============================] - 26s 229us/step - loss: 0.0549 - acc: 0.9807 - val_loss: 0.0575 - val_acc: 0.9802\n",
      "Epoch 4/10\n",
      "111699/111699 [==============================] - 26s 230us/step - loss: 0.0521 - acc: 0.9814 - val_loss: 0.0553 - val_acc: 0.9801\n",
      "Epoch 5/10\n",
      "111699/111699 [==============================] - 26s 230us/step - loss: 0.0493 - acc: 0.9820 - val_loss: 0.0601 - val_acc: 0.9797\n",
      "Epoch 6/10\n",
      "111699/111699 [==============================] - 25s 224us/step - loss: 0.0469 - acc: 0.9830 - val_loss: 0.0633 - val_acc: 0.9786\n",
      "Train on 111699 samples, validate on 47872 samples\n",
      "Epoch 1/10\n",
      "111699/111699 [==============================] - 29s 259us/step - loss: 0.0727 - acc: 0.9758 - val_loss: 0.0591 - val_acc: 0.9796\n",
      "Epoch 2/10\n",
      "111699/111699 [==============================] - 25s 228us/step - loss: 0.0586 - acc: 0.9797 - val_loss: 0.0578 - val_acc: 0.9802\n",
      "Epoch 3/10\n",
      "111699/111699 [==============================] - 26s 229us/step - loss: 0.0547 - acc: 0.9805 - val_loss: 0.0614 - val_acc: 0.9786\n",
      "Epoch 4/10\n",
      "111699/111699 [==============================] - 25s 228us/step - loss: 0.0514 - acc: 0.9815 - val_loss: 0.0604 - val_acc: 0.9780\n",
      "Train on 111699 samples, validate on 47872 samples\n",
      "Epoch 1/10\n",
      "111699/111699 [==============================] - 30s 264us/step - loss: 0.0716 - acc: 0.9762 - val_loss: 0.0630 - val_acc: 0.9778\n",
      "Epoch 2/10\n",
      "111699/111699 [==============================] - 26s 230us/step - loss: 0.0583 - acc: 0.9795 - val_loss: 0.0605 - val_acc: 0.9799\n",
      "Epoch 3/10\n",
      "111699/111699 [==============================] - 26s 231us/step - loss: 0.0541 - acc: 0.9807 - val_loss: 0.0549 - val_acc: 0.9800\n",
      "Epoch 4/10\n",
      "111699/111699 [==============================] - 26s 230us/step - loss: 0.0511 - acc: 0.9814 - val_loss: 0.0639 - val_acc: 0.9799\n",
      "Epoch 5/10\n",
      "111699/111699 [==============================] - 26s 228us/step - loss: 0.0486 - acc: 0.9823 - val_loss: 0.0602 - val_acc: 0.9792\n",
      "Train on 111699 samples, validate on 47872 samples\n",
      "Epoch 1/10\n",
      "111699/111699 [==============================] - 30s 265us/step - loss: 0.0723 - acc: 0.9761 - val_loss: 0.0710 - val_acc: 0.9758\n",
      "Epoch 2/10\n",
      "111699/111699 [==============================] - 26s 231us/step - loss: 0.0588 - acc: 0.9793 - val_loss: 0.0629 - val_acc: 0.9793\n",
      "Epoch 3/10\n",
      "111699/111699 [==============================] - 25s 225us/step - loss: 0.0545 - acc: 0.9807 - val_loss: 0.0569 - val_acc: 0.9804\n",
      "Epoch 4/10\n"
     ]
    },
    {
     "name": "stdout",
     "output_type": "stream",
     "text": [
      "111699/111699 [==============================] - 26s 232us/step - loss: 0.0516 - acc: 0.9814 - val_loss: 0.0599 - val_acc: 0.9789\n",
      "Epoch 5/10\n",
      "111699/111699 [==============================] - 26s 233us/step - loss: 0.0490 - acc: 0.9822 - val_loss: 0.0587 - val_acc: 0.9792\n",
      "Train on 111699 samples, validate on 47872 samples\n",
      "Epoch 1/10\n",
      "111699/111699 [==============================] - 29s 264us/step - loss: 0.0715 - acc: 0.9761 - val_loss: 0.0631 - val_acc: 0.9787\n",
      "Epoch 2/10\n",
      "111699/111699 [==============================] - 26s 231us/step - loss: 0.0581 - acc: 0.9796 - val_loss: 0.0560 - val_acc: 0.9802\n",
      "Epoch 3/10\n",
      "111699/111699 [==============================] - 26s 230us/step - loss: 0.0542 - acc: 0.9809 - val_loss: 0.0573 - val_acc: 0.9797\n",
      "Epoch 4/10\n",
      "111699/111699 [==============================] - 26s 230us/step - loss: 0.0509 - acc: 0.9815 - val_loss: 0.0576 - val_acc: 0.9800\n"
     ]
    }
   ],
   "source": [
    "# model_name = \"cnn_hannes\"\n",
    "# check_point_path= \"../models/\" + model_name + \".h5\"\n",
    "# callbacks = [\n",
    "#      ModelCheckpoint(check_point_path, monitor='val_loss', verbose=1, save_best_only=True, mode='auto')\n",
    "# ]\n",
    "for model in conv_models:\n",
    "    model.compile(loss='binary_crossentropy',\n",
    "              optimizer='adam',\n",
    "              metrics=['acc'])\n",
    "    callbacks = [\n",
    "        keras.callbacks.ReduceLROnPlateau(monitor='val_loss', factor=0.5),\n",
    "        EarlyStopping(monitor='val_loss', min_delta=0, patience=2, verbose=0, mode='auto')\n",
    "    ]\n",
    "    model.fit(x_train_texts, y_train, validation_data=(x_dev_texts, y_dev),\n",
    "              epochs=10, batch_size=50, callbacks = callbacks)"
   ]
  },
  {
   "cell_type": "code",
   "execution_count": 31,
   "metadata": {},
   "outputs": [
    {
     "name": "stdout",
     "output_type": "stream",
     "text": [
      "Saved model to disk\n"
     ]
    }
   ],
   "source": [
    "model_json = model.to_json()\n",
    "with open(MODEL_PATH + \"keras_cnn_hannes_classification_model.json\", \"w\") as json_file:\n",
    "    json_file.write(model_json)\n",
    "# serialize weights to HDF5\n",
    "ensemble_cnn.save_weights(MODEL_PATH + \"keras_cnn_hannes_classification_model.h5\")\n",
    "print(\"Saved model to disk\")\n",
    "# ensemble_cnn.load_weights(check_point_path)"
   ]
  },
  {
   "cell_type": "code",
   "execution_count": 32,
   "metadata": {},
   "outputs": [
    {
     "name": "stdout",
     "output_type": "stream",
     "text": [
      "47872/47872 [==============================] - 35s 735us/step\n"
     ]
    },
    {
     "data": {
      "text/plain": [
       "[0.049636824942616634, 0.9817290753126144]"
      ]
     },
     "execution_count": 32,
     "metadata": {},
     "output_type": "execute_result"
    }
   ],
   "source": [
    "ensemble_cnn.evaluate(x_dev_texts, y_dev)"
   ]
  },
  {
   "cell_type": "code",
   "execution_count": 33,
   "metadata": {},
   "outputs": [],
   "source": [
    "pred_dev = ensemble_cnn.predict(x_dev_texts)"
   ]
  },
  {
   "cell_type": "code",
   "execution_count": 34,
   "metadata": {},
   "outputs": [],
   "source": [
    "def mean_roc_auc(y_true, y_pred):\n",
    "    roc_auc_scores = []\n",
    "    for i in range(0, y_true.shape[1]):\n",
    "        roc_auc_scores.append(metrics.roc_auc_score(y_true[:, i], y_pred[:, i]))\n",
    "    print(roc_auc_scores)\n",
    "    return np.mean(roc_auc_scores)"
   ]
  },
  {
   "cell_type": "code",
   "execution_count": 35,
   "metadata": {},
   "outputs": [
    {
     "name": "stdout",
     "output_type": "stream",
     "text": [
      "[0.9731841249300874, 0.9871194006182306, 0.9848754006123026, 0.9650801528504815, 0.9801902029421672, 0.9631875156142653]\n"
     ]
    },
    {
     "data": {
      "text/plain": [
       "0.9756061329279224"
      ]
     },
     "execution_count": 35,
     "metadata": {},
     "output_type": "execute_result"
    }
   ],
   "source": [
    "mean_roc_auc(y_dev, pred_dev)"
   ]
  },
  {
   "cell_type": "code",
   "execution_count": 39,
   "metadata": {},
   "outputs": [],
   "source": [
    "model_name = 'keras_ensemble_cnn_classification_model'"
   ]
  },
  {
   "cell_type": "code",
   "execution_count": 37,
   "metadata": {},
   "outputs": [],
   "source": [
    "import pandas as pd"
   ]
  },
  {
   "cell_type": "code",
   "execution_count": 40,
   "metadata": {},
   "outputs": [],
   "source": [
    "X_official_test = pd.read_csv(\"../data/raw/test.csv\")\n",
    "x_dev_texts = tokenizer.texts_to_sequences(X_official_test['comment_text'])\n",
    "x_dev_texts = pad_sequences(x_dev_texts, maxlen=max_length, padding='post')\n",
    "pred = model.predict(x_dev_texts)\n",
    "list_classes = [\"toxic\", \"severe_toxic\", \"obscene\", \"threat\", \"insult\", \"identity_hate\"]\n",
    "sample_submission = pd.read_csv('../submissions/sample_submission.csv')\n",
    "sample_submission[list_classes] = pred\n",
    "sample_submission.to_csv(\"../submissions/\" + model_name + \".csv\", index=False)"
   ]
  }
 ],
 "metadata": {
  "kernelspec": {
   "display_name": "Python 3",
   "language": "python",
   "name": "python3"
  },
  "language_info": {
   "codemirror_mode": {
    "name": "ipython",
    "version": 3
   },
   "file_extension": ".py",
   "mimetype": "text/x-python",
   "name": "python",
   "nbconvert_exporter": "python",
   "pygments_lexer": "ipython3",
   "version": "3.5.2"
  }
 },
 "nbformat": 4,
 "nbformat_minor": 2
}
