{
 "cells": [
  {
   "cell_type": "code",
   "execution_count": 12,
   "metadata": {},
   "outputs": [],
   "source": [
    "import pandas as pd\n",
    "from sklearn.metrics import roc_auc_score\n",
    "import pickle\n",
    "import numpy as np"
   ]
  },
  {
   "cell_type": "code",
   "execution_count": 5,
   "metadata": {},
   "outputs": [],
   "source": [
    "MODEL_PATH = \"../models/\"\n",
    "DATA_PATH = \"../data/\"\n",
    "model_name = 'keras_lstm_fancy_classification_model'\n",
    "y_dev = pickle.load(open(DATA_PATH + \"y_dev.p\", \"rb\"))\n",
    "pred = pickle.load(open(\"../submissions/DEV_\" + model_name + \".p\", \"rb\"))"
   ]
  },
  {
   "cell_type": "code",
   "execution_count": 16,
   "metadata": {},
   "outputs": [],
   "source": [
    "X_dev = pickle.load(open(DATA_PATH + \"X_dev.p\", \"rb\"))"
   ]
  },
  {
   "cell_type": "code",
   "execution_count": 18,
   "metadata": {},
   "outputs": [
    {
     "data": {
      "text/html": [
       "<div>\n",
       "<style>\n",
       "    .dataframe thead tr:only-child th {\n",
       "        text-align: right;\n",
       "    }\n",
       "\n",
       "    .dataframe thead th {\n",
       "        text-align: left;\n",
       "    }\n",
       "\n",
       "    .dataframe tbody tr th {\n",
       "        vertical-align: top;\n",
       "    }\n",
       "</style>\n",
       "<table border=\"1\" class=\"dataframe\">\n",
       "  <thead>\n",
       "    <tr style=\"text-align: right;\">\n",
       "      <th></th>\n",
       "      <th>id</th>\n",
       "      <th>comment_text</th>\n",
       "      <th>toxic</th>\n",
       "      <th>severe_toxic</th>\n",
       "      <th>obscene</th>\n",
       "      <th>threat</th>\n",
       "      <th>insult</th>\n",
       "      <th>identity_hate</th>\n",
       "    </tr>\n",
       "  </thead>\n",
       "  <tbody>\n",
       "    <tr>\n",
       "      <th>119105</th>\n",
       "      <td>7ca72b5b9c688e9e</td>\n",
       "      <td>Geez, are you forgetful!  We've already discus...</td>\n",
       "      <td>0</td>\n",
       "      <td>0</td>\n",
       "      <td>0</td>\n",
       "      <td>0</td>\n",
       "      <td>0</td>\n",
       "      <td>0</td>\n",
       "    </tr>\n",
       "    <tr>\n",
       "      <th>131631</th>\n",
       "      <td>c03f72fd8f8bf54f</td>\n",
       "      <td>Carioca RFA \\n\\nThanks for your support on my ...</td>\n",
       "      <td>0</td>\n",
       "      <td>0</td>\n",
       "      <td>0</td>\n",
       "      <td>0</td>\n",
       "      <td>0</td>\n",
       "      <td>0</td>\n",
       "    </tr>\n",
       "    <tr>\n",
       "      <th>125326</th>\n",
       "      <td>9e5b8e8fc1ff2e84</td>\n",
       "      <td>\"\\n\\n Birthday \\n\\nNo worries, It's what I do ...</td>\n",
       "      <td>0</td>\n",
       "      <td>0</td>\n",
       "      <td>0</td>\n",
       "      <td>0</td>\n",
       "      <td>0</td>\n",
       "      <td>0</td>\n",
       "    </tr>\n",
       "    <tr>\n",
       "      <th>111256</th>\n",
       "      <td>5332799e706665a6</td>\n",
       "      <td>Pseudoscience category? \\n\\nI'm assuming that ...</td>\n",
       "      <td>0</td>\n",
       "      <td>0</td>\n",
       "      <td>0</td>\n",
       "      <td>0</td>\n",
       "      <td>0</td>\n",
       "      <td>0</td>\n",
       "    </tr>\n",
       "    <tr>\n",
       "      <th>83590</th>\n",
       "      <td>dfa7d8f0b4366680</td>\n",
       "      <td>(and if such phrase exists, it would be provid...</td>\n",
       "      <td>0</td>\n",
       "      <td>0</td>\n",
       "      <td>0</td>\n",
       "      <td>0</td>\n",
       "      <td>0</td>\n",
       "      <td>0</td>\n",
       "    </tr>\n",
       "  </tbody>\n",
       "</table>\n",
       "</div>"
      ],
      "text/plain": [
       "                      id                                       comment_text  \\\n",
       "119105  7ca72b5b9c688e9e  Geez, are you forgetful!  We've already discus...   \n",
       "131631  c03f72fd8f8bf54f  Carioca RFA \\n\\nThanks for your support on my ...   \n",
       "125326  9e5b8e8fc1ff2e84  \"\\n\\n Birthday \\n\\nNo worries, It's what I do ...   \n",
       "111256  5332799e706665a6  Pseudoscience category? \\n\\nI'm assuming that ...   \n",
       "83590   dfa7d8f0b4366680  (and if such phrase exists, it would be provid...   \n",
       "\n",
       "        toxic  severe_toxic  obscene  threat  insult  identity_hate  \n",
       "119105      0             0        0       0       0              0  \n",
       "131631      0             0        0       0       0              0  \n",
       "125326      0             0        0       0       0              0  \n",
       "111256      0             0        0       0       0              0  \n",
       "83590       0             0        0       0       0              0  "
      ]
     },
     "execution_count": 18,
     "metadata": {},
     "output_type": "execute_result"
    }
   ],
   "source": [
    "X_dev.head()"
   ]
  },
  {
   "cell_type": "code",
   "execution_count": 6,
   "metadata": {
    "scrolled": true
   },
   "outputs": [
    {
     "data": {
      "text/plain": [
       "(47872, 6)"
      ]
     },
     "execution_count": 6,
     "metadata": {},
     "output_type": "execute_result"
    }
   ],
   "source": [
    "y_dev.shape"
   ]
  },
  {
   "cell_type": "code",
   "execution_count": 7,
   "metadata": {},
   "outputs": [
    {
     "data": {
      "text/plain": [
       "(47872, 6)"
      ]
     },
     "execution_count": 7,
     "metadata": {},
     "output_type": "execute_result"
    }
   ],
   "source": [
    "pred.shape"
   ]
  },
  {
   "cell_type": "code",
   "execution_count": 13,
   "metadata": {},
   "outputs": [],
   "source": [
    "def mean_roc_auc(y_true, y_pred):\n",
    "    roc_auc_scores = []\n",
    "    for i in range(0, y_true.shape[1]):\n",
    "        roc_auc_scores.append(roc_auc_score(y_true[:, i], y_pred[:, i]))\n",
    "    print(roc_auc_scores)\n",
    "    return np.mean(roc_auc_scores)"
   ]
  },
  {
   "cell_type": "code",
   "execution_count": 14,
   "metadata": {
    "scrolled": false
   },
   "outputs": [
    {
     "name": "stdout",
     "output_type": "stream",
     "text": [
      "[0.9764074251197777, 0.9869719381963974, 0.987538161857247, 0.962685471687418, 0.9822949226417165, 0.9725777883174068]\n"
     ]
    },
    {
     "data": {
      "text/plain": [
       "0.9780792846366606"
      ]
     },
     "execution_count": 14,
     "metadata": {},
     "output_type": "execute_result"
    }
   ],
   "source": [
    "mean_roc_auc(y_dev, pred)"
   ]
  },
  {
   "cell_type": "code",
   "execution_count": 15,
   "metadata": {},
   "outputs": [],
   "source": [
    "list_classes = [\"toxic\", \"severe_toxic\", \"obscene\", \"threat\", \"insult\", \"identity_hate\"]"
   ]
  },
  {
   "cell_type": "markdown",
   "metadata": {},
   "source": [
    "1) add more swear words back for threat and identity hate classes<br>\n",
    "2) use different lists of swear words (per category)?<br>"
   ]
  },
  {
   "cell_type": "code",
   "execution_count": 35,
   "metadata": {},
   "outputs": [],
   "source": [
    "pred_rounded = np.round(pred)"
   ]
  },
  {
   "cell_type": "code",
   "execution_count": 42,
   "metadata": {},
   "outputs": [],
   "source": [
    "wrong_predictions_toxic = X_dev.iloc[[i for i in range(0, len(y_dev)) if y_dev[i, 0] != pred_rounded[i, 0] ]]['comment_text'].values\n",
    "wrong_predictions_severe_toxic = X_dev.iloc[[i for i in range(0, len(y_dev)) if y_dev[i, 1] != pred_rounded[i, 1] ]]['comment_text'].values\n",
    "wrong_predictions_obscene = X_dev.iloc[[i for i in range(0, len(y_dev)) if y_dev[i, 2] != pred_rounded[i, 2] ]]['comment_text'].values\n",
    "wrong_predictions_threat = X_dev.iloc[[i for i in range(0, len(y_dev)) if y_dev[i, 3] != pred_rounded[i, 3] ]]['comment_text'].values\n",
    "wrong_predictions_insult = X_dev.iloc[[i for i in range(0, len(y_dev)) if y_dev[i, 4] != pred_rounded[i, 4] ]]['comment_text'].values\n",
    "wrong_predictions_identity_hate = X_dev.iloc[[i for i in range(0, len(y_dev)) if y_dev[i, 5] != pred_rounded[i, 5] ]]['comment_text'].values"
   ]
  },
  {
   "cell_type": "code",
   "execution_count": 37,
   "metadata": {},
   "outputs": [
    {
     "name": "stdout",
     "output_type": "stream",
     "text": [
      "# wrong toxic 1740\n",
      "# wrong severe_toxic 452\n",
      "# wrong obscene 962\n",
      "# wrong threat 136\n",
      "# wrong insult 1327\n",
      "# wrong identity_hate 433\n"
     ]
    }
   ],
   "source": [
    "print('# wrong toxic', len(wrong_predictions_toxic))\n",
    "print('# wrong severe_toxic', len(wrong_predictions_severe_toxic))\n",
    "print('# wrong obscene', len(wrong_predictions_obscene))\n",
    "print('# wrong threat', len(wrong_predictions_threat))\n",
    "print('# wrong insult', len(wrong_predictions_insult))\n",
    "print('# wrong identity_hate', len(wrong_predictions_identity_hate))"
   ]
  },
  {
   "cell_type": "code",
   "execution_count": 39,
   "metadata": {},
   "outputs": [],
   "source": [
    "threshold = 0.2"
   ]
  },
  {
   "cell_type": "code",
   "execution_count": 45,
   "metadata": {},
   "outputs": [],
   "source": [
    "unsure_predictions_toxic = X_dev.iloc[[i for i in range(0, len(y_dev)) if abs(pred[i, 0] - 0.5) < threshold ]]['comment_text'].values\n",
    "unsure_predictions_severe_toxic = X_dev.iloc[[i for i in range(0, len(y_dev)) if abs(pred[i, 1] - 0.5) < threshold ]]['comment_text'].values\n",
    "unsure_predictions_obscene = X_dev.iloc[[i for i in range(0, len(y_dev)) if abs(pred[i, 2] - 0.5) < threshold ]]['comment_text'].values\n",
    "unsure_predictions_threat = X_dev.iloc[[i for i in range(0, len(y_dev)) if abs(pred[i, 3] - 0.5) < threshold ]]['comment_text'].values\n",
    "unsure_predictions_insult = X_dev.iloc[[i for i in range(0, len(y_dev)) if abs(pred[i, 4] - 0.5) < threshold ]]['comment_text'].values\n",
    "unsure_predictions_identity_hate = X_dev.iloc[[i for i in range(0, len(y_dev)) if abs(pred[i, 5] - 0.5) < threshold ]]['comment_text'].values"
   ]
  },
  {
   "cell_type": "code",
   "execution_count": 46,
   "metadata": {},
   "outputs": [
    {
     "name": "stdout",
     "output_type": "stream",
     "text": [
      "# unsure toxic 1609\n",
      "# unsure severe_toxic 737\n",
      "# unsure obscene 824\n",
      "# unsure threat 0\n",
      "# unsure insult 1587\n",
      "# unsure identity_hate 228\n"
     ]
    }
   ],
   "source": [
    "print('# unsure toxic', len(unsure_predictions_toxic))\n",
    "print('# unsure severe_toxic', len(unsure_predictions_severe_toxic))\n",
    "print('# unsure obscene', len(unsure_predictions_obscene))\n",
    "print('# unsure threat', len(unsure_predictions_threat))\n",
    "print('# unsure insult', len(unsure_predictions_insult))\n",
    "print('# unsure identity_hate', len(unsure_predictions_identity_hate))"
   ]
  }
 ],
 "metadata": {
  "kernelspec": {
   "display_name": "Python 3",
   "language": "python",
   "name": "python3"
  },
  "language_info": {
   "codemirror_mode": {
    "name": "ipython",
    "version": 3
   },
   "file_extension": ".py",
   "mimetype": "text/x-python",
   "name": "python",
   "nbconvert_exporter": "python",
   "pygments_lexer": "ipython3",
   "version": "3.5.2"
  }
 },
 "nbformat": 4,
 "nbformat_minor": 2
}
