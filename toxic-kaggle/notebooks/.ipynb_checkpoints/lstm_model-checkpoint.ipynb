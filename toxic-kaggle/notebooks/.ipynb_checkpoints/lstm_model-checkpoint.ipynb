{
 "cells": [
  {
   "cell_type": "code",
   "execution_count": 2,
   "metadata": {},
   "outputs": [],
   "source": [
    "import logging\n",
    "import pickle\n",
    "from sklearn import metrics\n",
    "from sklearn.metrics import f1_score\n",
    "import keras\n",
    "from keras.models import Model, Sequential\n",
    "from keras.layers import *\n",
    "from keras.preprocessing.text import one_hot\n",
    "from keras.optimizers import Adam\n",
    "from tqdm import tnrange, tqdm_notebook\n",
    "from keras.layers.advanced_activations import LeakyReLU\n",
    "from keras.preprocessing.sequence import pad_sequences\n",
    "from keras.preprocessing.text import Tokenizer\n",
    "from sklearn.utils import class_weight"
   ]
  },
  {
   "cell_type": "code",
   "execution_count": 37,
   "metadata": {},
   "outputs": [],
   "source": [
    "MODEL_PATH = \"../models/\""
   ]
  },
  {
   "cell_type": "code",
   "execution_count": 4,
   "metadata": {},
   "outputs": [],
   "source": [
    "DATA_PATH = \"../data/\"\n",
    "X_train = pickle.load(open(DATA_PATH + \"X_train.p\", \"rb\"))\n",
    "X_dev = pickle.load(open(DATA_PATH + \"X_dev.p\", \"rb\"))\n",
    "y_train = pickle.load(open(DATA_PATH + \"y_train.p\", \"rb\"))\n",
    "y_dev = pickle.load(open(DATA_PATH + \"y_dev.p\", \"rb\"))"
   ]
  },
  {
   "cell_type": "code",
   "execution_count": 9,
   "metadata": {},
   "outputs": [
    {
     "data": {
      "text/plain": [
       "(111699, 6)"
      ]
     },
     "execution_count": 9,
     "metadata": {},
     "output_type": "execute_result"
    }
   ],
   "source": [
    "y_train.shape"
   ]
  },
  {
   "cell_type": "code",
   "execution_count": 6,
   "metadata": {},
   "outputs": [],
   "source": [
    "train_text = X_train['comment_text']"
   ]
  },
  {
   "cell_type": "code",
   "execution_count": 7,
   "metadata": {},
   "outputs": [],
   "source": [
    "tokenizer = Tokenizer(num_words=18400)\n",
    "tokenizer.fit_on_texts(train_text)\n",
    "sequences = tokenizer.texts_to_sequences(train_text)"
   ]
  },
  {
   "cell_type": "code",
   "execution_count": 14,
   "metadata": {},
   "outputs": [],
   "source": [
    "word_index = tokenizer.word_index\n",
    "embeddings_index = {}\n",
    "f = open('../../embeddings/glove.6B.300d.txt')\n",
    "for line in f:\n",
    "    values = line.split()\n",
    "    word = values[0]\n",
    "    coefs = np.asarray(values[1:], dtype='float32')\n",
    "    embeddings_index[word] = coefs\n",
    "f.close()"
   ]
  },
  {
   "cell_type": "code",
   "execution_count": 19,
   "metadata": {},
   "outputs": [
    {
     "name": "stdout",
     "output_type": "stream",
     "text": [
      "Found 400000 word vectors.\n"
     ]
    }
   ],
   "source": [
    "print('Found %s word vectors.' % len(embeddings_index))\n",
    "embedding_matrix = np.zeros((len(word_index) + 1, 300))\n",
    "for word, i in word_index.items():\n",
    "    embedding_vector = embeddings_index.get(word)\n",
    "    if embedding_vector is not None:\n",
    "        # words not found in embedding index will be all-zeros.\n",
    "        embedding_matrix[i] = embedding_vector\n",
    "embedding_layer = Embedding(embedding_matrix.shape[0],\n",
    "                            300,\n",
    "                            weights=[embedding_matrix],\n",
    "                            input_length=200, trainable = False)"
   ]
  },
  {
   "cell_type": "code",
   "execution_count": 25,
   "metadata": {},
   "outputs": [],
   "source": [
    "max_length = 200\n",
    "\n",
    "x_train_texts = tokenizer.texts_to_sequences(X_train['comment_text'])\n",
    "x_train_texts = pad_sequences(x_train_texts, maxlen=max_length, padding='post')\n",
    "\n",
    "x_dev_texts = tokenizer.texts_to_sequences(X_dev['comment_text'])\n",
    "x_dev_texts = pad_sequences(x_dev_texts, maxlen=max_length, padding='post')"
   ]
  },
  {
   "cell_type": "code",
   "execution_count": 26,
   "metadata": {},
   "outputs": [],
   "source": [
    "current_y_train = y_train[:, 0]\n",
    "current_y_dev = y_dev[:, 0]"
   ]
  },
  {
   "cell_type": "code",
   "execution_count": 27,
   "metadata": {},
   "outputs": [],
   "source": [
    "class_weight = class_weight.compute_class_weight('balanced', np.unique(current_y_train), current_y_train)\n",
    "class_weight = {i:x for i, x in enumerate(list(class_weight))}"
   ]
  },
  {
   "cell_type": "code",
   "execution_count": 28,
   "metadata": {
    "scrolled": true
   },
   "outputs": [
    {
     "data": {
      "text/plain": [
       "{0: 0.5530365294542862, 1: 5.213732262882749}"
      ]
     },
     "execution_count": 28,
     "metadata": {},
     "output_type": "execute_result"
    }
   ],
   "source": [
    "class_weight"
   ]
  },
  {
   "cell_type": "code",
   "execution_count": 30,
   "metadata": {},
   "outputs": [
    {
     "name": "stdout",
     "output_type": "stream",
     "text": [
      "_________________________________________________________________\n",
      "Layer (type)                 Output Shape              Param #   \n",
      "=================================================================\n",
      "input_2 (InputLayer)         (None, 200)               0         \n",
      "_________________________________________________________________\n",
      "embedding_1 (Embedding)      (None, 200, 300)          50649300  \n",
      "_________________________________________________________________\n",
      "lstm_1 (LSTM)                (None, 200, 10)           12440     \n",
      "_________________________________________________________________\n",
      "lstm_2 (LSTM)                (None, 2)                 104       \n",
      "_________________________________________________________________\n",
      "dense_1 (Dense)              (None, 1)                 3         \n",
      "=================================================================\n",
      "Total params: 50,661,847\n",
      "Trainable params: 12,547\n",
      "Non-trainable params: 50,649,300\n",
      "_________________________________________________________________\n"
     ]
    }
   ],
   "source": [
    "sequence_input = Input(shape=(max_length,), dtype='int32')\n",
    "embedded_sequences = embedding_layer(sequence_input)\n",
    "lstm = keras.layers.LSTM(10, return_sequences=True)(embedded_sequences)\n",
    "lstm2 = keras.layers.LSTM(2)(lstm)\n",
    "x = Dense(1, activation='sigmoid')(lstm2)\n",
    "\n",
    "model = Model(sequence_input, x)\n",
    "model.compile(loss='binary_crossentropy',\n",
    "              optimizer='adam',\n",
    "              metrics=['acc'])\n",
    "\n",
    "model.summary()"
   ]
  },
  {
   "cell_type": "code",
   "execution_count": null,
   "metadata": {},
   "outputs": [
    {
     "name": "stdout",
     "output_type": "stream",
     "text": [
      "Train on 111699 samples, validate on 47872 samples\n",
      "Epoch 1/20\n",
      "111699/111699 [==============================] - 4258s 38ms/step - loss: 0.6891 - acc: 0.3722 - val_loss: 0.6480 - val_acc: 0.9051\n",
      "Epoch 2/20\n",
      "111699/111699 [==============================] - 4263s 38ms/step - loss: 0.6888 - acc: 0.3695 - val_loss: 0.6624 - val_acc: 0.9049\n",
      "Epoch 3/20\n",
      "111699/111699 [==============================] - 4300s 38ms/step - loss: 0.6888 - acc: 0.4685 - val_loss: 0.7210 - val_acc: 0.1522\n",
      "Epoch 4/20\n",
      "111699/111699 [==============================] - 4316s 39ms/step - loss: 0.6892 - acc: 0.3195 - val_loss: 0.7087 - val_acc: 0.1156\n",
      "Epoch 5/20\n",
      "111699/111699 [==============================] - 4284s 38ms/step - loss: 0.6486 - acc: 0.5926 - val_loss: 0.5926 - val_acc: 0.6833\n",
      "Epoch 6/20\n",
      "111699/111699 [==============================] - 4284s 38ms/step - loss: 0.5008 - acc: 0.7824 - val_loss: 0.5290 - val_acc: 0.7548\n",
      "Epoch 7/20\n",
      "111699/111699 [==============================] - 4169s 37ms/step - loss: 0.4543 - acc: 0.8103 - val_loss: 0.4206 - val_acc: 0.8157\n",
      "Epoch 8/20\n",
      "111699/111699 [==============================] - 4171s 37ms/step - loss: 0.4274 - acc: 0.8221 - val_loss: 0.4481 - val_acc: 0.8095\n",
      "Epoch 9/20\n",
      "111699/111699 [==============================] - 4161s 37ms/step - loss: 0.4014 - acc: 0.8329 - val_loss: 0.3147 - val_acc: 0.8798\n",
      "Epoch 10/20\n",
      "111699/111699 [==============================] - 4159s 37ms/step - loss: 0.3726 - acc: 0.8457 - val_loss: 0.3783 - val_acc: 0.8325\n",
      "Epoch 11/20\n",
      "111699/111699 [==============================] - 4171s 37ms/step - loss: 0.3390 - acc: 0.8637 - val_loss: 0.2868 - val_acc: 0.8899\n",
      "Epoch 13/20\n",
      "111699/111699 [==============================] - 4158s 37ms/step - loss: 0.3253 - acc: 0.8702 - val_loss: 0.3702 - val_acc: 0.8438\n",
      "Epoch 14/20\n",
      "111699/111699 [==============================] - 4188s 37ms/step - loss: 0.3132 - acc: 0.8727 - val_loss: 0.2761 - val_acc: 0.8874\n",
      "Epoch 15/20\n",
      "111699/111699 [==============================] - 4191s 38ms/step - loss: 0.3025 - acc: 0.8776 - val_loss: 0.4550 - val_acc: 0.7852\n",
      "Epoch 16/20\n",
      "111699/111699 [==============================] - 4179s 37ms/step - loss: 0.2957 - acc: 0.8748 - val_loss: 0.4020 - val_acc: 0.8121\n",
      "Epoch 17/20\n",
      "111699/111699 [==============================] - 4174s 37ms/step - loss: 0.2819 - acc: 0.8838 - val_loss: 0.2881 - val_acc: 0.8730\n",
      "Epoch 18/20\n",
      "111699/111699 [==============================] - 4181s 37ms/step - loss: 0.2748 - acc: 0.8878 - val_loss: 0.2543 - val_acc: 0.8976\n",
      "Epoch 19/20\n",
      " 82220/111699 [=====================>........] - ETA: 16:50 - loss: 0.2655 - acc: 0.8900"
     ]
    }
   ],
   "source": [
    "model.fit(x_train_texts, current_y_train, validation_data=(x_dev_texts, current_y_dev),\n",
    "          epochs=20, batch_size=20, class_weight = class_weight)"
   ]
  },
  {
   "cell_type": "code",
   "execution_count": 38,
   "metadata": {},
   "outputs": [
    {
     "name": "stdout",
     "output_type": "stream",
     "text": [
      "Saved model to disk\n"
     ]
    }
   ],
   "source": [
    "model_json = model.to_json()\n",
    "with open(MODEL_PATH + \"keras_lstm_classification_model.json\", \"w\") as json_file:\n",
    "    json_file.write(model_json)\n",
    "# serialize weights to HDF5\n",
    "model.save_weights(MODEL_PATH + \"keras_lstm_classification_model.h5\")\n",
    "print(\"Saved model to disk\")"
   ]
  },
  {
   "cell_type": "code",
   "execution_count": 35,
   "metadata": {},
   "outputs": [
    {
     "name": "stdout",
     "output_type": "stream",
     "text": [
      "47872/47872 [==============================] - 217s 5ms/step\n"
     ]
    },
    {
     "data": {
      "text/plain": [
       "[0.2957064880725534, 0.8744359959893048]"
      ]
     },
     "execution_count": 35,
     "metadata": {},
     "output_type": "execute_result"
    }
   ],
   "source": [
    "model.evaluate(x_dev_texts, current_y_dev)"
   ]
  }
 ],
 "metadata": {
  "kernelspec": {
   "display_name": "Python 3",
   "language": "python",
   "name": "python3"
  },
  "language_info": {
   "codemirror_mode": {
    "name": "ipython",
    "version": 3
   },
   "file_extension": ".py",
   "mimetype": "text/x-python",
   "name": "python",
   "nbconvert_exporter": "python",
   "pygments_lexer": "ipython3",
   "version": "3.5.2"
  }
 },
 "nbformat": 4,
 "nbformat_minor": 2
}
