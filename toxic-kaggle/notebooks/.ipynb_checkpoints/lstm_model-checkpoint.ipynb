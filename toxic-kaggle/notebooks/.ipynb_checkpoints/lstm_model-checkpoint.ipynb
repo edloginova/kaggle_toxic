{
 "cells": [
  {
   "cell_type": "code",
   "execution_count": 1,
   "metadata": {},
   "outputs": [
    {
     "name": "stderr",
     "output_type": "stream",
     "text": [
      "/usr/local/lib/python3.5/dist-packages/h5py/__init__.py:36: FutureWarning: Conversion of the second argument of issubdtype from `float` to `np.floating` is deprecated. In future, it will be treated as `np.float64 == np.dtype(float).type`.\n",
      "  from ._conv import register_converters as _register_converters\n",
      "Using TensorFlow backend.\n"
     ]
    }
   ],
   "source": [
    "import logging\n",
    "import pickle\n",
    "from sklearn import metrics\n",
    "from sklearn.metrics import f1_score\n",
    "import keras\n",
    "from keras.models import Model, Sequential\n",
    "from keras.layers import *\n",
    "from keras.preprocessing.text import one_hot\n",
    "from keras.optimizers import Adam\n",
    "from tqdm import tnrange, tqdm_notebook\n",
    "from keras.layers.advanced_activations import LeakyReLU\n",
    "from keras.preprocessing.sequence import pad_sequences\n",
    "from keras.preprocessing.text import Tokenizer\n",
    "from sklearn.utils import class_weight"
   ]
  },
  {
   "cell_type": "code",
   "execution_count": 2,
   "metadata": {},
   "outputs": [],
   "source": [
    "import tensorflow as tf\n",
    "from keras.backend.tensorflow_backend import set_session\n",
    "config = tf.ConfigProto()\n",
    "config.gpu_options.per_process_gpu_memory_fraction = 0.3\n",
    "set_session(tf.Session(config=config))"
   ]
  },
  {
   "cell_type": "markdown",
   "metadata": {},
   "source": [
    "Things to include:\n",
    "* bias initialization with 1\n",
    "* dropout (recurrent?) https://github.com/tensorflow/tensorflow/blob/v1.3.0/tensorflow/contrib/keras/python/keras/layers/recurrent.py#L140 \n",
    "* Adam / SGD with learning rate annealing + momentum\n",
    "* self-attention\n",
    "* Bayesian Optimization for hyperparameters\n",
    "* Gradient norm clipping"
   ]
  },
  {
   "cell_type": "code",
   "execution_count": 3,
   "metadata": {},
   "outputs": [],
   "source": [
    "MODEL_PATH = \"../models/\""
   ]
  },
  {
   "cell_type": "code",
   "execution_count": 4,
   "metadata": {},
   "outputs": [],
   "source": [
    "DATA_PATH = \"../data/\"\n",
    "X_train = pickle.load(open(DATA_PATH + \"X_train.p\", \"rb\"))\n",
    "X_dev = pickle.load(open(DATA_PATH + \"X_dev.p\", \"rb\"))\n",
    "y_train = pickle.load(open(DATA_PATH + \"y_train.p\", \"rb\"))\n",
    "y_dev = pickle.load(open(DATA_PATH + \"y_dev.p\", \"rb\"))"
   ]
  },
  {
   "cell_type": "code",
   "execution_count": 5,
   "metadata": {},
   "outputs": [
    {
     "data": {
      "text/plain": [
       "(111699, 6)"
      ]
     },
     "execution_count": 5,
     "metadata": {},
     "output_type": "execute_result"
    }
   ],
   "source": [
    "y_train.shape"
   ]
  },
  {
   "cell_type": "code",
   "execution_count": 6,
   "metadata": {},
   "outputs": [],
   "source": [
    "train_text = X_train['comment_text']"
   ]
  },
  {
   "cell_type": "code",
   "execution_count": 7,
   "metadata": {},
   "outputs": [],
   "source": [
    "tokenizer = Tokenizer(num_words=18400)\n",
    "tokenizer.fit_on_texts(train_text)\n",
    "sequences = tokenizer.texts_to_sequences(train_text)"
   ]
  },
  {
   "cell_type": "code",
   "execution_count": 8,
   "metadata": {},
   "outputs": [],
   "source": [
    "word_index = tokenizer.word_index\n",
    "embeddings_index = {}\n",
    "f = open('../../../embeddings/glove.6B.300d.txt')\n",
    "for line in f:\n",
    "    values = line.split()\n",
    "    word = values[0]\n",
    "    coefs = np.asarray(values[1:], dtype='float32')\n",
    "    embeddings_index[word] = coefs\n",
    "f.close()"
   ]
  },
  {
   "cell_type": "code",
   "execution_count": 9,
   "metadata": {},
   "outputs": [
    {
     "name": "stdout",
     "output_type": "stream",
     "text": [
      "Found 400000 word vectors.\n"
     ]
    }
   ],
   "source": [
    "print('Found %s word vectors.' % len(embeddings_index))\n",
    "embedding_matrix = np.zeros((len(word_index) + 1, 300))\n",
    "for word, i in word_index.items():\n",
    "    embedding_vector = embeddings_index.get(word)\n",
    "    if embedding_vector is not None:\n",
    "        # words not found in embedding index will be all-zeros.\n",
    "        embedding_matrix[i] = embedding_vector\n",
    "embedding_layer = Embedding(embedding_matrix.shape[0],\n",
    "                            300,\n",
    "                            weights=[embedding_matrix],\n",
    "                            input_length=200, trainable = False)"
   ]
  },
  {
   "cell_type": "code",
   "execution_count": 10,
   "metadata": {},
   "outputs": [],
   "source": [
    "max_length = 200\n",
    "\n",
    "x_train_texts = tokenizer.texts_to_sequences(X_train['comment_text'])\n",
    "x_train_texts = pad_sequences(x_train_texts, maxlen=max_length, padding='post')\n",
    "\n",
    "x_dev_texts = tokenizer.texts_to_sequences(X_dev['comment_text'])\n",
    "x_dev_texts = pad_sequences(x_dev_texts, maxlen=max_length, padding='post')"
   ]
  },
  {
   "cell_type": "code",
   "execution_count": 16,
   "metadata": {},
   "outputs": [
    {
     "name": "stdout",
     "output_type": "stream",
     "text": [
      "_________________________________________________________________\n",
      "Layer (type)                 Output Shape              Param #   \n",
      "=================================================================\n",
      "input_2 (InputLayer)         (None, 200)               0         \n",
      "_________________________________________________________________\n",
      "embedding_1 (Embedding)      (None, 200, 300)          50649300  \n",
      "_________________________________________________________________\n",
      "cu_dnnlstm_3 (CuDNNLSTM)     (None, 200, 10)           12480     \n",
      "_________________________________________________________________\n",
      "cu_dnnlstm_4 (CuDNNLSTM)     (None, 2)                 112       \n",
      "_________________________________________________________________\n",
      "dense_2 (Dense)              (None, 6)                 18        \n",
      "=================================================================\n",
      "Total params: 50,661,910\n",
      "Trainable params: 12,610\n",
      "Non-trainable params: 50,649,300\n",
      "_________________________________________________________________\n"
     ]
    }
   ],
   "source": [
    "sequence_input = Input(shape=(max_length,), dtype='int32')\n",
    "embedded_sequences = embedding_layer(sequence_input)\n",
    "lstm = keras.layers.CuDNNLSTM(10, return_sequences=True)(embedded_sequences)\n",
    "lstm2 = keras.layers.CuDNNLSTM(2)(lstm)\n",
    "output = Dense(units=6, activation='sigmoid')(lstm2)\n",
    "\n",
    "model = Model(sequence_input, output)\n",
    "model.compile(loss='binary_crossentropy',\n",
    "              optimizer='adam',\n",
    "              metrics=['acc'])\n",
    "\n",
    "model.summary()"
   ]
  },
  {
   "cell_type": "code",
   "execution_count": 17,
   "metadata": {},
   "outputs": [
    {
     "name": "stdout",
     "output_type": "stream",
     "text": [
      "Train on 111699 samples, validate on 47872 samples\n",
      "Epoch 1/20\n",
      "111699/111699 [==============================] - 202s 2ms/step - loss: 0.1747 - acc: 0.9609 - val_loss: 0.1407 - val_acc: 0.9632\n",
      "Epoch 2/20\n",
      "111699/111699 [==============================] - 202s 2ms/step - loss: 0.1394 - acc: 0.9636 - val_loss: 0.1216 - val_acc: 0.9632\n",
      "Epoch 3/20\n",
      "111699/111699 [==============================] - 201s 2ms/step - loss: 0.1277 - acc: 0.9636 - val_loss: 0.1245 - val_acc: 0.9635\n",
      "Epoch 4/20\n",
      "111699/111699 [==============================] - 202s 2ms/step - loss: 0.1135 - acc: 0.9649 - val_loss: 0.1259 - val_acc: 0.9635\n",
      "Epoch 5/20\n",
      "111699/111699 [==============================] - 202s 2ms/step - loss: 0.1264 - acc: 0.9643 - val_loss: 0.1355 - val_acc: 0.9641\n",
      "Epoch 6/20\n",
      "111699/111699 [==============================] - 202s 2ms/step - loss: 0.1294 - acc: 0.9630 - val_loss: 0.1277 - val_acc: 0.9633\n",
      "Epoch 7/20\n",
      "111699/111699 [==============================] - 201s 2ms/step - loss: 0.1179 - acc: 0.9638 - val_loss: 0.1035 - val_acc: 0.9635\n",
      "Epoch 8/20\n",
      "111699/111699 [==============================] - 202s 2ms/step - loss: 0.1053 - acc: 0.9638 - val_loss: 0.0981 - val_acc: 0.9636\n",
      "Epoch 9/20\n",
      "111699/111699 [==============================] - 202s 2ms/step - loss: 0.0876 - acc: 0.9652 - val_loss: 0.0797 - val_acc: 0.9651\n",
      "Epoch 10/20\n",
      "111699/111699 [==============================] - 202s 2ms/step - loss: 0.0612 - acc: 0.9772 - val_loss: 0.0543 - val_acc: 0.9811\n",
      "Epoch 11/20\n",
      "111699/111699 [==============================] - 201s 2ms/step - loss: 0.0521 - acc: 0.9814 - val_loss: 0.0531 - val_acc: 0.9812\n",
      "Epoch 12/20\n",
      "111699/111699 [==============================] - 233s 2ms/step - loss: 0.0498 - acc: 0.9819 - val_loss: 0.0512 - val_acc: 0.9816\n",
      "Epoch 13/20\n",
      "111699/111699 [==============================] - 263s 2ms/step - loss: 0.0483 - acc: 0.9825 - val_loss: 0.0505 - val_acc: 0.9818\n",
      "Epoch 14/20\n",
      "111699/111699 [==============================] - 248s 2ms/step - loss: 0.0470 - acc: 0.9827 - val_loss: 0.0500 - val_acc: 0.9821\n",
      "Epoch 15/20\n",
      "111699/111699 [==============================] - 248s 2ms/step - loss: 0.0460 - acc: 0.9831 - val_loss: 0.0499 - val_acc: 0.9818\n",
      "Epoch 16/20\n",
      "111699/111699 [==============================] - 247s 2ms/step - loss: 0.0451 - acc: 0.9832 - val_loss: 0.0504 - val_acc: 0.9819\n",
      "Epoch 17/20\n",
      "111699/111699 [==============================] - 248s 2ms/step - loss: 0.0444 - acc: 0.9833 - val_loss: 0.0506 - val_acc: 0.9819\n",
      "Epoch 18/20\n",
      "111699/111699 [==============================] - 248s 2ms/step - loss: 0.0438 - acc: 0.9835 - val_loss: 0.0508 - val_acc: 0.9814\n",
      "Epoch 19/20\n",
      "111699/111699 [==============================] - 248s 2ms/step - loss: 0.0431 - acc: 0.9837 - val_loss: 0.0507 - val_acc: 0.9817\n",
      "Epoch 20/20\n",
      "111699/111699 [==============================] - 248s 2ms/step - loss: 0.0427 - acc: 0.9838 - val_loss: 0.0517 - val_acc: 0.9819\n"
     ]
    },
    {
     "data": {
      "text/plain": [
       "<keras.callbacks.History at 0x7f51ec33ab38>"
      ]
     },
     "execution_count": 17,
     "metadata": {},
     "output_type": "execute_result"
    }
   ],
   "source": [
    "model.fit(x_train_texts, y_train, validation_data=(x_dev_texts, y_dev),\n",
    "          epochs=20, batch_size=20)"
   ]
  },
  {
   "cell_type": "code",
   "execution_count": 18,
   "metadata": {},
   "outputs": [
    {
     "name": "stdout",
     "output_type": "stream",
     "text": [
      "Saved model to disk\n"
     ]
    }
   ],
   "source": [
    "model_json = model.to_json()\n",
    "with open(MODEL_PATH + \"keras_lstm_classification_model.json\", \"w\") as json_file:\n",
    "    json_file.write(model_json)\n",
    "# serialize weights to HDF5\n",
    "model.save_weights(MODEL_PATH + \"keras_lstm_classification_model.h5\")\n",
    "print(\"Saved model to disk\")"
   ]
  },
  {
   "cell_type": "code",
   "execution_count": null,
   "metadata": {},
   "outputs": [],
   "source": [
    "model.evaluate(x_dev_texts, y_dev)"
   ]
  },
  {
   "cell_type": "code",
   "execution_count": 19,
   "metadata": {},
   "outputs": [],
   "source": [
    "pred_dev = model.predict(x_dev_texts)"
   ]
  },
  {
   "cell_type": "code",
   "execution_count": 20,
   "metadata": {},
   "outputs": [],
   "source": [
    "def mean_roc_auc(y_true, y_pred):\n",
    "    roc_auc_scores = []\n",
    "    for i in range(0, y_true.shape[1]):\n",
    "        roc_auc_scores.append(metrics.roc_auc_score(y_true[:, i], y_pred[:, i]))\n",
    "    print(roc_auc_scores)\n",
    "    return np.mean(roc_auc_scores)"
   ]
  },
  {
   "cell_type": "code",
   "execution_count": 21,
   "metadata": {},
   "outputs": [
    {
     "name": "stdout",
     "output_type": "stream",
     "text": [
      "[0.9707071768071331, 0.9856516805592247, 0.9854804458857578, 0.949326072812232, 0.9807451828583519, 0.9601871125710448]\n"
     ]
    },
    {
     "data": {
      "text/plain": [
       "0.9720162785822909"
      ]
     },
     "execution_count": 21,
     "metadata": {},
     "output_type": "execute_result"
    }
   ],
   "source": [
    "mean_roc_auc(y_dev, pred_dev)"
   ]
  },
  {
   "cell_type": "code",
   "execution_count": 22,
   "metadata": {},
   "outputs": [],
   "source": [
    "model_name = 'keras_lstm_classification_model'"
   ]
  },
  {
   "cell_type": "code",
   "execution_count": 24,
   "metadata": {},
   "outputs": [],
   "source": [
    "import pandas as pd"
   ]
  },
  {
   "cell_type": "code",
   "execution_count": 26,
   "metadata": {},
   "outputs": [],
   "source": [
    "X_official_test = pd.read_csv(\"../data/raw/test.csv\")\n",
    "x_dev_texts = tokenizer.texts_to_sequences(X_official_test['comment_text'])\n",
    "x_dev_texts = pad_sequences(x_dev_texts, maxlen=max_length, padding='post')\n",
    "pred = model.predict(x_dev_texts)\n",
    "list_classes = [\"toxic\", \"severe_toxic\", \"obscene\", \"threat\", \"insult\", \"identity_hate\"]\n",
    "sample_submission = pd.read_csv('../submissions/sample_submission.csv')\n",
    "sample_submission[list_classes] = pred\n",
    "sample_submission.to_csv(\"../submissions/\" + model_name + \".csv\", index=False)"
   ]
  }
 ],
 "metadata": {
  "kernelspec": {
   "display_name": "Python 3",
   "language": "python",
   "name": "python3"
  },
  "language_info": {
   "codemirror_mode": {
    "name": "ipython",
    "version": 3
   },
   "file_extension": ".py",
   "mimetype": "text/x-python",
   "name": "python",
   "nbconvert_exporter": "python",
   "pygments_lexer": "ipython3",
   "version": "3.5.2"
  }
 },
 "nbformat": 4,
 "nbformat_minor": 2
}
