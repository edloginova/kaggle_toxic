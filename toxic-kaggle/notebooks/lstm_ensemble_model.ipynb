{
 "cells": [
  {
   "cell_type": "code",
   "execution_count": 1,
   "metadata": {},
   "outputs": [
    {
     "name": "stderr",
     "output_type": "stream",
     "text": [
      "/usr/local/lib/python3.5/dist-packages/h5py/__init__.py:36: FutureWarning: Conversion of the second argument of issubdtype from `float` to `np.floating` is deprecated. In future, it will be treated as `np.float64 == np.dtype(float).type`.\n",
      "  from ._conv import register_converters as _register_converters\n",
      "Using TensorFlow backend.\n"
     ]
    }
   ],
   "source": [
    "import logging\n",
    "import pickle\n",
    "from sklearn import metrics\n",
    "from sklearn.metrics import f1_score\n",
    "import keras\n",
    "from keras.models import Model, Sequential\n",
    "from keras.layers import *\n",
    "from keras.preprocessing.text import one_hot\n",
    "from keras.optimizers import Adam\n",
    "from tqdm import tnrange, tqdm_notebook\n",
    "from keras.layers.advanced_activations import LeakyReLU\n",
    "from keras.preprocessing.sequence import pad_sequences\n",
    "from keras.preprocessing.text import Tokenizer\n",
    "from sklearn.utils import class_weight\n",
    "from keras.callbacks import *"
   ]
  },
  {
   "cell_type": "code",
   "execution_count": 2,
   "metadata": {},
   "outputs": [],
   "source": [
    "import tensorflow as tf\n",
    "from keras.backend.tensorflow_backend import set_session\n",
    "config = tf.ConfigProto()\n",
    "config.gpu_options.per_process_gpu_memory_fraction = 0.3\n",
    "set_session(tf.Session(config=config))"
   ]
  },
  {
   "cell_type": "markdown",
   "metadata": {},
   "source": [
    "Things to include:\n",
    "* bias initialization with 1\n",
    "* dropout (recurrent?) https://github.com/tensorflow/tensorflow/blob/v1.3.0/tensorflow/contrib/keras/python/keras/layers/recurrent.py#L140 \n",
    "* Adam / SGD with learning rate annealing + momentum\n",
    "* self-attention\n",
    "* Bayesian Optimization for hyperparameters\n",
    "* Gradient norm clipping"
   ]
  },
  {
   "cell_type": "code",
   "execution_count": 3,
   "metadata": {},
   "outputs": [],
   "source": [
    "MODEL_PATH = \"../models/\""
   ]
  },
  {
   "cell_type": "code",
   "execution_count": 4,
   "metadata": {},
   "outputs": [],
   "source": [
    "DATA_PATH = \"../data/\"\n",
    "X_train = pickle.load(open(DATA_PATH + \"X_train.p\", \"rb\"))\n",
    "X_dev = pickle.load(open(DATA_PATH + \"X_dev.p\", \"rb\"))\n",
    "y_train = pickle.load(open(DATA_PATH + \"y_train.p\", \"rb\"))\n",
    "y_dev = pickle.load(open(DATA_PATH + \"y_dev.p\", \"rb\"))"
   ]
  },
  {
   "cell_type": "code",
   "execution_count": 5,
   "metadata": {},
   "outputs": [
    {
     "data": {
      "text/plain": [
       "(111699, 6)"
      ]
     },
     "execution_count": 5,
     "metadata": {},
     "output_type": "execute_result"
    }
   ],
   "source": [
    "y_train.shape"
   ]
  },
  {
   "cell_type": "code",
   "execution_count": 6,
   "metadata": {},
   "outputs": [],
   "source": [
    "train_text = X_train['comment_text']"
   ]
  },
  {
   "cell_type": "code",
   "execution_count": 7,
   "metadata": {},
   "outputs": [],
   "source": [
    "tokenizer = Tokenizer(num_words=18400)\n",
    "tokenizer.fit_on_texts(train_text)\n",
    "sequences = tokenizer.texts_to_sequences(train_text)"
   ]
  },
  {
   "cell_type": "code",
   "execution_count": 8,
   "metadata": {},
   "outputs": [],
   "source": [
    "word_index = tokenizer.word_index\n",
    "embeddings_index = {}\n",
    "f = open('../../../embeddings/glove.6B.300d.txt')\n",
    "for line in f:\n",
    "    values = line.split()\n",
    "    word = values[0]\n",
    "    coefs = np.asarray(values[1:], dtype='float32')\n",
    "    embeddings_index[word] = coefs\n",
    "f.close()"
   ]
  },
  {
   "cell_type": "code",
   "execution_count": 9,
   "metadata": {},
   "outputs": [
    {
     "name": "stdout",
     "output_type": "stream",
     "text": [
      "Found 400000 word vectors.\n"
     ]
    }
   ],
   "source": [
    "print('Found %s word vectors.' % len(embeddings_index))\n",
    "embedding_matrix = np.zeros((len(word_index) + 1, 300))\n",
    "for word, i in word_index.items():\n",
    "    embedding_vector = embeddings_index.get(word)\n",
    "    if embedding_vector is not None:\n",
    "        # words not found in embedding index will be all-zeros.\n",
    "        embedding_matrix[i] = embedding_vector\n",
    "embedding_size = 300\n",
    "embedding_layer = Embedding(embedding_matrix.shape[0],\n",
    "                            embedding_size,\n",
    "                            weights=[embedding_matrix],\n",
    "                            input_length=200, trainable = False)"
   ]
  },
  {
   "cell_type": "code",
   "execution_count": 10,
   "metadata": {},
   "outputs": [],
   "source": [
    "max_length = 200\n",
    "\n",
    "x_train_texts = tokenizer.texts_to_sequences(X_train['comment_text'])\n",
    "x_train_texts = pad_sequences(x_train_texts, maxlen=max_length, padding='post')\n",
    "\n",
    "x_dev_texts = tokenizer.texts_to_sequences(X_dev['comment_text'])\n",
    "x_dev_texts = pad_sequences(x_dev_texts, maxlen=max_length, padding='post')"
   ]
  },
  {
   "cell_type": "code",
   "execution_count": 11,
   "metadata": {},
   "outputs": [
    {
     "name": "stdout",
     "output_type": "stream",
     "text": [
      "__________________________________________________________________________________________________\n",
      "Layer (type)                    Output Shape         Param #     Connected to                     \n",
      "==================================================================================================\n",
      "input_12 (InputLayer)           (None, 200)          0                                            \n",
      "__________________________________________________________________________________________________\n",
      "model_1 (Model)                 (None, 6)            50661446    input_12[0][0]                   \n",
      "__________________________________________________________________________________________________\n",
      "model_2 (Model)                 (None, 6)            50661446    input_12[0][0]                   \n",
      "__________________________________________________________________________________________________\n",
      "model_3 (Model)                 (None, 6)            50661446    input_12[0][0]                   \n",
      "__________________________________________________________________________________________________\n",
      "model_4 (Model)                 (None, 6)            50661446    input_12[0][0]                   \n",
      "__________________________________________________________________________________________________\n",
      "model_5 (Model)                 (None, 6)            50661446    input_12[0][0]                   \n",
      "__________________________________________________________________________________________________\n",
      "model_6 (Model)                 (None, 6)            50661446    input_12[0][0]                   \n",
      "__________________________________________________________________________________________________\n",
      "model_7 (Model)                 (None, 6)            50661446    input_12[0][0]                   \n",
      "__________________________________________________________________________________________________\n",
      "model_8 (Model)                 (None, 6)            50661446    input_12[0][0]                   \n",
      "__________________________________________________________________________________________________\n",
      "model_9 (Model)                 (None, 6)            50661446    input_12[0][0]                   \n",
      "__________________________________________________________________________________________________\n",
      "model_10 (Model)                (None, 6)            50661446    input_12[0][0]                   \n",
      "__________________________________________________________________________________________________\n",
      "model_11 (Model)                (None, 6)            50661446    input_12[0][0]                   \n",
      "__________________________________________________________________________________________________\n",
      "average_1 (Average)             (None, 6)            0           model_1[1][0]                    \n",
      "                                                                 model_2[1][0]                    \n",
      "                                                                 model_3[1][0]                    \n",
      "                                                                 model_4[1][0]                    \n",
      "                                                                 model_5[1][0]                    \n",
      "                                                                 model_6[1][0]                    \n",
      "                                                                 model_7[1][0]                    \n",
      "                                                                 model_8[1][0]                    \n",
      "                                                                 model_9[1][0]                    \n",
      "                                                                 model_10[1][0]                   \n",
      "                                                                 model_11[1][0]                   \n",
      "==================================================================================================\n",
      "Total params: 50,782,906\n",
      "Trainable params: 133,606\n",
      "Non-trainable params: 50,649,300\n",
      "__________________________________________________________________________________________________\n"
     ]
    }
   ],
   "source": [
    "batch_norm = False\n",
    "num_ensembles = 11\n",
    "\n",
    "def create_lstm_model():\n",
    "    sequence_input = Input(shape=(max_length,), dtype='int32')\n",
    "    embedded_sequences = embedding_layer(sequence_input)\n",
    "    lstm1 = CuDNNLSTM(20, return_sequences=True)(embedded_sequences)\n",
    "    lstm2 = CuDNNLSTM(5, return_sequences=True)(lstm1)\n",
    "    flatten = Flatten()(lstm2)\n",
    "    output = Dense(units=6, activation='sigmoid')(flatten)\n",
    "    return Model(sequence_input, output)\n",
    "\n",
    "lstm_models = [create_lstm_model() for i in range(0,num_ensembles)]\n",
    "\n",
    "\n",
    "ensemble_input = Input(shape=(max_length,))\n",
    "averaged = keras.layers.average([lstm_model(ensemble_input) for lstm_model in lstm_models])\n",
    "ensemble_cnn = Model(inputs=[ensemble_input], outputs=[averaged])\n",
    "ensemble_cnn.compile(loss='binary_crossentropy',\n",
    "              optimizer='adam',\n",
    "              metrics=['acc'])    \n",
    "\n",
    "\n",
    "ensemble_cnn.summary()"
   ]
  },
  {
   "cell_type": "code",
   "execution_count": null,
   "metadata": {},
   "outputs": [],
   "source": []
  },
  {
   "cell_type": "code",
   "execution_count": 12,
   "metadata": {
    "scrolled": true
   },
   "outputs": [
    {
     "name": "stdout",
     "output_type": "stream",
     "text": [
      "Train on 111699 samples, validate on 47872 samples\n",
      "Epoch 1/15\n",
      "111699/111699 [==============================] - 51s 456us/step - loss: 0.0737 - acc: 0.9757 - val_loss: 0.0587 - val_acc: 0.9796\n",
      "Epoch 2/15\n",
      "111699/111699 [==============================] - 50s 444us/step - loss: 0.0555 - acc: 0.9805 - val_loss: 0.0546 - val_acc: 0.9807\n",
      "Epoch 3/15\n",
      "111699/111699 [==============================] - 50s 445us/step - loss: 0.0527 - acc: 0.9812 - val_loss: 0.0535 - val_acc: 0.9809\n",
      "Epoch 4/15\n",
      "111699/111699 [==============================] - 50s 447us/step - loss: 0.0506 - acc: 0.9817 - val_loss: 0.0537 - val_acc: 0.9811\n",
      "Epoch 5/15\n",
      "111699/111699 [==============================] - 50s 446us/step - loss: 0.0492 - acc: 0.9820 - val_loss: 0.0521 - val_acc: 0.9813\n",
      "Epoch 6/15\n",
      "111699/111699 [==============================] - 50s 446us/step - loss: 0.0478 - acc: 0.9825 - val_loss: 0.0514 - val_acc: 0.9816\n",
      "Epoch 7/15\n",
      "111699/111699 [==============================] - 50s 444us/step - loss: 0.0468 - acc: 0.9827 - val_loss: 0.0517 - val_acc: 0.9813\n",
      "Epoch 8/15\n",
      "111699/111699 [==============================] - 50s 445us/step - loss: 0.0460 - acc: 0.9829 - val_loss: 0.0514 - val_acc: 0.9816\n",
      "Train on 111699 samples, validate on 47872 samples\n",
      "Epoch 1/15\n",
      "111699/111699 [==============================] - 50s 450us/step - loss: 0.0772 - acc: 0.9743 - val_loss: 0.0617 - val_acc: 0.9792\n",
      "Epoch 2/15\n",
      "111699/111699 [==============================] - 50s 446us/step - loss: 0.0559 - acc: 0.9802 - val_loss: 0.0564 - val_acc: 0.9802\n",
      "Epoch 3/15\n",
      "111699/111699 [==============================] - 50s 447us/step - loss: 0.0527 - acc: 0.9811 - val_loss: 0.0534 - val_acc: 0.9811\n",
      "Epoch 4/15\n",
      "111699/111699 [==============================] - 50s 446us/step - loss: 0.0505 - acc: 0.9815 - val_loss: 0.0533 - val_acc: 0.9809\n",
      "Epoch 5/15\n",
      "111699/111699 [==============================] - 50s 444us/step - loss: 0.0490 - acc: 0.9821 - val_loss: 0.0521 - val_acc: 0.9812\n",
      "Epoch 6/15\n",
      "111699/111699 [==============================] - 50s 447us/step - loss: 0.0478 - acc: 0.9823 - val_loss: 0.0525 - val_acc: 0.9813\n",
      "Epoch 7/15\n",
      "111699/111699 [==============================] - 50s 445us/step - loss: 0.0466 - acc: 0.9828 - val_loss: 0.0527 - val_acc: 0.9815\n",
      "Train on 111699 samples, validate on 47872 samples\n",
      "Epoch 1/15\n",
      "111699/111699 [==============================] - 50s 451us/step - loss: 0.0823 - acc: 0.9731 - val_loss: 0.0666 - val_acc: 0.9768\n",
      "Epoch 2/15\n",
      "111699/111699 [==============================] - 50s 446us/step - loss: 0.0622 - acc: 0.9784 - val_loss: 0.0587 - val_acc: 0.9796\n",
      "Epoch 3/15\n",
      "111699/111699 [==============================] - 50s 446us/step - loss: 0.0572 - acc: 0.9800 - val_loss: 0.0584 - val_acc: 0.9797\n",
      "Epoch 4/15\n",
      "111699/111699 [==============================] - 50s 446us/step - loss: 0.0540 - acc: 0.9809 - val_loss: 0.0550 - val_acc: 0.9806\n",
      "Epoch 5/15\n",
      "111699/111699 [==============================] - 50s 446us/step - loss: 0.0522 - acc: 0.9812 - val_loss: 0.0540 - val_acc: 0.9808\n",
      "Epoch 6/15\n",
      "111699/111699 [==============================] - 50s 447us/step - loss: 0.0504 - acc: 0.9819 - val_loss: 0.0526 - val_acc: 0.9811\n",
      "Epoch 7/15\n",
      "111699/111699 [==============================] - 50s 445us/step - loss: 0.0493 - acc: 0.9821 - val_loss: 0.0559 - val_acc: 0.9808\n",
      "Epoch 8/15\n",
      "111699/111699 [==============================] - 50s 447us/step - loss: 0.0482 - acc: 0.9825 - val_loss: 0.0527 - val_acc: 0.9814\n",
      "Train on 111699 samples, validate on 47872 samples\n",
      "Epoch 1/15\n",
      "111699/111699 [==============================] - 50s 449us/step - loss: 0.0762 - acc: 0.9750 - val_loss: 0.0580 - val_acc: 0.9798\n",
      "Epoch 2/15\n",
      "111699/111699 [==============================] - 50s 445us/step - loss: 0.0564 - acc: 0.9802 - val_loss: 0.0552 - val_acc: 0.9808\n",
      "Epoch 3/15\n",
      "111699/111699 [==============================] - 50s 447us/step - loss: 0.0534 - acc: 0.9811 - val_loss: 0.0538 - val_acc: 0.9811\n",
      "Epoch 4/15\n",
      "111699/111699 [==============================] - 50s 446us/step - loss: 0.0509 - acc: 0.9817 - val_loss: 0.0535 - val_acc: 0.9809\n",
      "Epoch 5/15\n",
      "111699/111699 [==============================] - 50s 447us/step - loss: 0.0496 - acc: 0.9820 - val_loss: 0.0518 - val_acc: 0.9814\n",
      "Epoch 6/15\n",
      "111699/111699 [==============================] - 50s 446us/step - loss: 0.0482 - acc: 0.9824 - val_loss: 0.0537 - val_acc: 0.9813\n",
      "Epoch 7/15\n",
      "111699/111699 [==============================] - 50s 447us/step - loss: 0.0473 - acc: 0.9829 - val_loss: 0.0515 - val_acc: 0.9815\n",
      "Epoch 8/15\n",
      "111699/111699 [==============================] - 50s 447us/step - loss: 0.0462 - acc: 0.9830 - val_loss: 0.0519 - val_acc: 0.9815\n",
      "Epoch 9/15\n",
      "111699/111699 [==============================] - 50s 447us/step - loss: 0.0455 - acc: 0.9832 - val_loss: 0.0522 - val_acc: 0.9815\n",
      "Train on 111699 samples, validate on 47872 samples\n",
      "Epoch 1/15\n",
      "111699/111699 [==============================] - 50s 449us/step - loss: 0.0744 - acc: 0.9751 - val_loss: 0.0575 - val_acc: 0.9798\n",
      "Epoch 2/15\n",
      "111699/111699 [==============================] - 49s 440us/step - loss: 0.0557 - acc: 0.9803 - val_loss: 0.0550 - val_acc: 0.9808\n",
      "Epoch 3/15\n",
      "111699/111699 [==============================] - 50s 444us/step - loss: 0.0524 - acc: 0.9812 - val_loss: 0.0531 - val_acc: 0.9813\n",
      "Epoch 4/15\n",
      "111699/111699 [==============================] - 49s 441us/step - loss: 0.0501 - acc: 0.9818 - val_loss: 0.0516 - val_acc: 0.9815\n",
      "Epoch 5/15\n",
      "111699/111699 [==============================] - 49s 442us/step - loss: 0.0488 - acc: 0.9821 - val_loss: 0.0514 - val_acc: 0.9815\n",
      "Epoch 6/15\n",
      "111699/111699 [==============================] - 50s 444us/step - loss: 0.0475 - acc: 0.9826 - val_loss: 0.0509 - val_acc: 0.9816\n",
      "Epoch 7/15\n",
      "111699/111699 [==============================] - 49s 440us/step - loss: 0.0466 - acc: 0.9829 - val_loss: 0.0507 - val_acc: 0.9817\n",
      "Epoch 8/15\n",
      "111699/111699 [==============================] - 49s 442us/step - loss: 0.0458 - acc: 0.9830 - val_loss: 0.0514 - val_acc: 0.9813\n",
      "Epoch 9/15\n",
      "111699/111699 [==============================] - 49s 441us/step - loss: 0.0450 - acc: 0.9833 - val_loss: 0.0512 - val_acc: 0.9813\n",
      "Train on 111699 samples, validate on 47872 samples\n",
      "Epoch 1/15\n",
      "111699/111699 [==============================] - 50s 444us/step - loss: 0.0761 - acc: 0.9750 - val_loss: 0.0604 - val_acc: 0.9795\n",
      "Epoch 2/15\n",
      "111699/111699 [==============================] - 49s 441us/step - loss: 0.0567 - acc: 0.9802 - val_loss: 0.0639 - val_acc: 0.9779\n",
      "Epoch 3/15\n",
      "111699/111699 [==============================] - 49s 441us/step - loss: 0.0535 - acc: 0.9811 - val_loss: 0.0542 - val_acc: 0.9807\n",
      "Epoch 4/15\n",
      "111699/111699 [==============================] - 49s 442us/step - loss: 0.0515 - acc: 0.9814 - val_loss: 0.0539 - val_acc: 0.9806\n",
      "Epoch 5/15\n",
      "111699/111699 [==============================] - 49s 441us/step - loss: 0.0500 - acc: 0.9820 - val_loss: 0.0529 - val_acc: 0.9813\n",
      "Epoch 6/15\n",
      "111699/111699 [==============================] - 49s 440us/step - loss: 0.0487 - acc: 0.9823 - val_loss: 0.0533 - val_acc: 0.9810\n",
      "Epoch 7/15\n",
      "111699/111699 [==============================] - 49s 441us/step - loss: 0.0477 - acc: 0.9826 - val_loss: 0.0522 - val_acc: 0.9814\n",
      "Epoch 8/15\n",
      "111699/111699 [==============================] - 49s 440us/step - loss: 0.0468 - acc: 0.9829 - val_loss: 0.0523 - val_acc: 0.9814\n",
      "Epoch 9/15\n",
      "111699/111699 [==============================] - 49s 441us/step - loss: 0.0460 - acc: 0.9830 - val_loss: 0.0531 - val_acc: 0.9811\n",
      "Train on 111699 samples, validate on 47872 samples\n",
      "Epoch 1/15\n",
      "111699/111699 [==============================] - 50s 446us/step - loss: 0.0752 - acc: 0.9755 - val_loss: 0.0592 - val_acc: 0.9795\n",
      "Epoch 2/15\n",
      "111699/111699 [==============================] - 49s 443us/step - loss: 0.0569 - acc: 0.9799 - val_loss: 0.0556 - val_acc: 0.9804\n",
      "Epoch 3/15\n",
      "111699/111699 [==============================] - 49s 442us/step - loss: 0.0533 - acc: 0.9811 - val_loss: 0.0541 - val_acc: 0.9807\n",
      "Epoch 4/15\n",
      "111699/111699 [==============================] - 49s 442us/step - loss: 0.0511 - acc: 0.9814 - val_loss: 0.0548 - val_acc: 0.9807\n",
      "Epoch 5/15\n",
      "111699/111699 [==============================] - 49s 440us/step - loss: 0.0498 - acc: 0.9818 - val_loss: 0.0523 - val_acc: 0.9815\n",
      "Epoch 6/15\n",
      "111699/111699 [==============================] - 49s 440us/step - loss: 0.0484 - acc: 0.9823 - val_loss: 0.0519 - val_acc: 0.9815\n",
      "Epoch 7/15\n",
      "111699/111699 [==============================] - 49s 441us/step - loss: 0.0472 - acc: 0.9826 - val_loss: 0.0530 - val_acc: 0.9810\n",
      "Epoch 8/15\n",
      "111699/111699 [==============================] - 49s 441us/step - loss: 0.0465 - acc: 0.9829 - val_loss: 0.0517 - val_acc: 0.9814\n",
      "Epoch 9/15\n",
      "111699/111699 [==============================] - 49s 442us/step - loss: 0.0456 - acc: 0.9833 - val_loss: 0.0513 - val_acc: 0.9815\n",
      "Epoch 10/15\n",
      "111699/111699 [==============================] - 49s 442us/step - loss: 0.0450 - acc: 0.9833 - val_loss: 0.0513 - val_acc: 0.9816\n",
      "Epoch 11/15\n",
      "111699/111699 [==============================] - 49s 439us/step - loss: 0.0442 - acc: 0.9835 - val_loss: 0.0515 - val_acc: 0.9815\n",
      "Epoch 12/15\n",
      "111699/111699 [==============================] - 49s 438us/step - loss: 0.0424 - acc: 0.9841 - val_loss: 0.0514 - val_acc: 0.9815\n",
      "Train on 111699 samples, validate on 47872 samples\n",
      "Epoch 1/15\n",
      "111699/111699 [==============================] - 50s 444us/step - loss: 0.0751 - acc: 0.9750 - val_loss: 0.0586 - val_acc: 0.9795\n",
      "Epoch 2/15\n",
      "111699/111699 [==============================] - 49s 439us/step - loss: 0.0563 - acc: 0.9802 - val_loss: 0.0552 - val_acc: 0.9805\n",
      "Epoch 3/15\n",
      "111699/111699 [==============================] - 49s 441us/step - loss: 0.0533 - acc: 0.9810 - val_loss: 0.0537 - val_acc: 0.9809\n",
      "Epoch 4/15\n",
      "111699/111699 [==============================] - 49s 440us/step - loss: 0.0512 - acc: 0.9814 - val_loss: 0.0527 - val_acc: 0.9814\n",
      "Epoch 5/15\n",
      "111699/111699 [==============================] - 49s 439us/step - loss: 0.0496 - acc: 0.9820 - val_loss: 0.0535 - val_acc: 0.9809\n",
      "Epoch 6/15\n",
      "111699/111699 [==============================] - 49s 439us/step - loss: 0.0486 - acc: 0.9822 - val_loss: 0.0539 - val_acc: 0.9807\n",
      "Train on 111699 samples, validate on 47872 samples\n",
      "Epoch 1/15\n",
      "111699/111699 [==============================] - 50s 446us/step - loss: 0.0755 - acc: 0.9750 - val_loss: 0.0591 - val_acc: 0.9797\n",
      "Epoch 2/15\n",
      "111699/111699 [==============================] - 49s 440us/step - loss: 0.0569 - acc: 0.9801 - val_loss: 0.0579 - val_acc: 0.9798\n",
      "Epoch 3/15\n",
      "111699/111699 [==============================] - 49s 439us/step - loss: 0.0537 - acc: 0.9811 - val_loss: 0.0530 - val_acc: 0.9812\n",
      "Epoch 4/15\n",
      "111699/111699 [==============================] - 49s 440us/step - loss: 0.0513 - acc: 0.9816 - val_loss: 0.0548 - val_acc: 0.9807\n",
      "Epoch 5/15\n",
      "111699/111699 [==============================] - 49s 441us/step - loss: 0.0498 - acc: 0.9819 - val_loss: 0.0534 - val_acc: 0.9812\n",
      "Train on 111699 samples, validate on 47872 samples\n",
      "Epoch 1/15\n",
      "111699/111699 [==============================] - 50s 445us/step - loss: 0.0762 - acc: 0.9746 - val_loss: 0.0601 - val_acc: 0.9794\n",
      "Epoch 2/15\n",
      "111699/111699 [==============================] - 50s 443us/step - loss: 0.0571 - acc: 0.9799 - val_loss: 0.0561 - val_acc: 0.9805\n",
      "Epoch 3/15\n",
      "111699/111699 [==============================] - 49s 440us/step - loss: 0.0537 - acc: 0.9807 - val_loss: 0.0550 - val_acc: 0.9806\n",
      "Epoch 4/15\n",
      "111699/111699 [==============================] - 49s 441us/step - loss: 0.0517 - acc: 0.9814 - val_loss: 0.0568 - val_acc: 0.9799\n",
      "Epoch 5/15\n",
      "111699/111699 [==============================] - 49s 441us/step - loss: 0.0501 - acc: 0.9819 - val_loss: 0.0536 - val_acc: 0.9811\n",
      "Epoch 6/15\n",
      "111699/111699 [==============================] - 49s 440us/step - loss: 0.0488 - acc: 0.9822 - val_loss: 0.0532 - val_acc: 0.9812\n",
      "Epoch 7/15\n",
      "111699/111699 [==============================] - 49s 442us/step - loss: 0.0479 - acc: 0.9826 - val_loss: 0.0535 - val_acc: 0.9808\n",
      "Epoch 8/15\n",
      "111699/111699 [==============================] - 49s 442us/step - loss: 0.0471 - acc: 0.9828 - val_loss: 0.0530 - val_acc: 0.9812\n",
      "Epoch 9/15\n",
      "111699/111699 [==============================] - 49s 442us/step - loss: 0.0463 - acc: 0.9832 - val_loss: 0.0524 - val_acc: 0.9813\n",
      "Epoch 10/15\n",
      "111699/111699 [==============================] - 49s 442us/step - loss: 0.0456 - acc: 0.9833 - val_loss: 0.0548 - val_acc: 0.9807\n",
      "Epoch 11/15\n",
      "111699/111699 [==============================] - 49s 442us/step - loss: 0.0450 - acc: 0.9834 - val_loss: 0.0531 - val_acc: 0.9814\n",
      "Train on 111699 samples, validate on 47872 samples\n",
      "Epoch 1/15\n",
      "111699/111699 [==============================] - 50s 446us/step - loss: 0.0721 - acc: 0.9758 - val_loss: 0.0596 - val_acc: 0.9790\n",
      "Epoch 2/15\n",
      "111699/111699 [==============================] - 49s 441us/step - loss: 0.0561 - acc: 0.9804 - val_loss: 0.0551 - val_acc: 0.9806\n",
      "Epoch 3/15\n",
      "111699/111699 [==============================] - 49s 440us/step - loss: 0.0533 - acc: 0.9811 - val_loss: 0.0540 - val_acc: 0.9807\n",
      "Epoch 4/15\n",
      "111699/111699 [==============================] - 49s 442us/step - loss: 0.0512 - acc: 0.9816 - val_loss: 0.0543 - val_acc: 0.9806\n",
      "Epoch 5/15\n",
      "111699/111699 [==============================] - 50s 444us/step - loss: 0.0497 - acc: 0.9821 - val_loss: 0.0600 - val_acc: 0.9799\n"
     ]
    }
   ],
   "source": [
    "# model_name = \"cnn_hannes\"\n",
    "# check_point_path= \"../models/\" + model_name + \".h5\"\n",
    "# callbacks = [\n",
    "#      ModelCheckpoint(check_point_path, monitor='val_loss', verbose=1, save_best_only=True, mode='auto')\n",
    "# ]\n",
    "for model in lstm_models:\n",
    "    model.compile(loss='binary_crossentropy',\n",
    "              optimizer='adam',\n",
    "              metrics=['acc'])\n",
    "    callbacks = [\n",
    "        keras.callbacks.ReduceLROnPlateau(monitor='val_loss', factor=0.5, patience=1),\n",
    "        EarlyStopping(monitor='val_loss', min_delta=0, patience=2, verbose=0, mode='auto')\n",
    "    ]\n",
    "    model.fit(x_train_texts, y_train, validation_data=(x_dev_texts, y_dev),\n",
    "              epochs=15, batch_size=50, callbacks = callbacks)"
   ]
  },
  {
   "cell_type": "code",
   "execution_count": 13,
   "metadata": {},
   "outputs": [
    {
     "name": "stdout",
     "output_type": "stream",
     "text": [
      "Saved model to disk\n"
     ]
    }
   ],
   "source": [
    "model_json = model.to_json()\n",
    "with open(MODEL_PATH + \"keras_lstm_ensemble_classification_model.json\", \"w\") as json_file:\n",
    "    json_file.write(model_json)\n",
    "# serialize weights to HDF5\n",
    "ensemble_cnn.save_weights(MODEL_PATH + \"keras_lstm_ensemble_classification_model.h5\")\n",
    "print(\"Saved model to disk\")\n",
    "# ensemble_cnn.load_weights(check_point_path)"
   ]
  },
  {
   "cell_type": "code",
   "execution_count": 14,
   "metadata": {},
   "outputs": [
    {
     "name": "stdout",
     "output_type": "stream",
     "text": [
      "47872/47872 [==============================] - 108s 2ms/step\n"
     ]
    },
    {
     "data": {
      "text/plain": [
       "[0.047678700197372276, 0.9823104860310886]"
      ]
     },
     "execution_count": 14,
     "metadata": {},
     "output_type": "execute_result"
    }
   ],
   "source": [
    "ensemble_cnn.evaluate(x_dev_texts, y_dev)"
   ]
  },
  {
   "cell_type": "code",
   "execution_count": 15,
   "metadata": {},
   "outputs": [],
   "source": [
    "pred_dev = ensemble_cnn.predict(x_dev_texts)"
   ]
  },
  {
   "cell_type": "code",
   "execution_count": 16,
   "metadata": {},
   "outputs": [],
   "source": [
    "def mean_roc_auc(y_true, y_pred):\n",
    "    roc_auc_scores = []\n",
    "    for i in range(0, y_true.shape[1]):\n",
    "        roc_auc_scores.append(metrics.roc_auc_score(y_true[:, i], y_pred[:, i]))\n",
    "    print(roc_auc_scores)\n",
    "    return np.mean(roc_auc_scores)"
   ]
  },
  {
   "cell_type": "code",
   "execution_count": 17,
   "metadata": {},
   "outputs": [
    {
     "name": "stdout",
     "output_type": "stream",
     "text": [
      "[0.9754723279166753, 0.9884952389090977, 0.9863664084279117, 0.9768081833663581, 0.9814469156121579, 0.9754583762725628]\n"
     ]
    },
    {
     "data": {
      "text/plain": [
       "0.9806745750841274"
      ]
     },
     "execution_count": 17,
     "metadata": {},
     "output_type": "execute_result"
    }
   ],
   "source": [
    "mean_roc_auc(y_dev, pred_dev)"
   ]
  },
  {
   "cell_type": "code",
   "execution_count": 18,
   "metadata": {},
   "outputs": [],
   "source": [
    "model_name = 'keras_ensemble_lstm_classification_model'"
   ]
  },
  {
   "cell_type": "code",
   "execution_count": 19,
   "metadata": {},
   "outputs": [],
   "source": [
    "import pandas as pd"
   ]
  },
  {
   "cell_type": "code",
   "execution_count": 21,
   "metadata": {},
   "outputs": [],
   "source": [
    "X_official_test = pd.read_csv(\"../data/raw/test.csv\")\n",
    "x_dev_texts = tokenizer.texts_to_sequences(X_official_test['comment_text'])\n",
    "x_dev_texts = pad_sequences(x_dev_texts, maxlen=max_length, padding='post')\n",
    "pred = model.predict(x_dev_texts)\n",
    "list_classes = [\"toxic\", \"severe_toxic\", \"obscene\", \"threat\", \"insult\", \"identity_hate\"]\n",
    "sample_submission = pd.read_csv('../submissions/sample_submission.csv')\n",
    "sample_submission[list_classes] = pred\n",
    "sample_submission.to_csv(\"../submissions/\" + model_name + \".csv\", index=False)"
   ]
  }
 ],
 "metadata": {
  "kernelspec": {
   "display_name": "Python 3",
   "language": "python",
   "name": "python3"
  },
  "language_info": {
   "codemirror_mode": {
    "name": "ipython",
    "version": 3
   },
   "file_extension": ".py",
   "mimetype": "text/x-python",
   "name": "python",
   "nbconvert_exporter": "python",
   "pygments_lexer": "ipython3",
   "version": "3.5.2"
  }
 },
 "nbformat": 4,
 "nbformat_minor": 2
}
