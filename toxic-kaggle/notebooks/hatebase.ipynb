{
 "cells": [
  {
   "cell_type": "code",
   "execution_count": 6,
   "metadata": {},
   "outputs": [],
   "source": [
    "import json\n",
    "import urllib.request"
   ]
  },
  {
   "cell_type": "code",
   "execution_count": 2,
   "metadata": {},
   "outputs": [],
   "source": [
    "api_key = \"bed7d67da5938c4fe09c3286408ee314\""
   ]
  },
  {
   "cell_type": "code",
   "execution_count": 43,
   "metadata": {},
   "outputs": [],
   "source": [
    "from json import loads\n",
    "from hatebase import HatebaseAPI\n",
    "\n",
    "hatebase = HatebaseAPI({\"key\": api_key})\n",
    "filters = {'about_nationality': '1', 'language': 'eng'}\n",
    "output = \"json\"\n",
    "query_type = \"vocabulary\"\n",
    "response = hatebase.performRequest(filters, output, query_type)\n",
    "\n",
    "# convert to Python object\n",
    "response = loads(response)\n",
    "words = [x['vocabulary'] for x in response['data']['datapoint']]\n",
    "len(words)"
   ]
  },
  {
   "cell_type": "code",
   "execution_count": 47,
   "metadata": {},
   "outputs": [
    {
     "data": {
      "text/plain": [
       "'http://api.hatebase.org/v3-0/bed7d67da5938c4fe09c3286408ee314/vocabulary/json/language%3Deng%7Cabout_ethnicity%3D1'"
      ]
     },
     "execution_count": 47,
     "metadata": {},
     "output_type": "execute_result"
    }
   ],
   "source": [
    "\"http://api.hatebase.org/v3-0/\" + api_key + \"/vocabulary/json/\" + \"language%3Deng%7Cabout_ethnicity%3D1\""
   ]
  },
  {
   "cell_type": "code",
   "execution_count": 4,
   "metadata": {},
   "outputs": [],
   "source": [
    "filters = \"language%3Deng%7Cabout_ethnicity%3D1\"\n",
    "with urllib.request.urlopen(\"http://api.hatebase.org/v3-0/\" + api_key + \"/vocabulary/json/\" + filters) as response:\n",
    "    html = response.read()\n",
    "data = json.loads(html.decode('utf-8'))\n",
    "ethnicity_words = [x['vocabulary'] for x in data['data']['datapoint']]"
   ]
  },
  {
   "cell_type": "code",
   "execution_count": 32,
   "metadata": {},
   "outputs": [
    {
     "data": {
      "text/plain": [
       "100"
      ]
     },
     "execution_count": 32,
     "metadata": {},
     "output_type": "execute_result"
    }
   ],
   "source": [
    "len(ethnicity_words)"
   ]
  },
  {
   "cell_type": "code",
   "execution_count": 37,
   "metadata": {},
   "outputs": [],
   "source": [
    "filters = \"language%3Deng%7Cabout_ethnicity%3D1\"\n",
    "with urllib.request.urlopen(\"http://api.hatebase.org/v3-0/\" + api_key + \"/vocabulary/json/\" + filters) as response:\n",
    "    html = response.read()\n",
    "with urllib.request.urlopen(\"http://api.hatebase.org/v3-0/\" + api_key + \"/vocabulary/json/\" + filters) as response:\n",
    "    html = response.read()\n",
    "data = json.loads(html.decode('utf-8'))\n",
    "ethnicity_words = ethnicity_words + [x['vocabulary'] for x in data['data']['datapoint']]"
   ]
  },
  {
   "cell_type": "code",
   "execution_count": 38,
   "metadata": {},
   "outputs": [
    {
     "data": {
      "text/plain": [
       "100"
      ]
     },
     "execution_count": 38,
     "metadata": {},
     "output_type": "execute_result"
    }
   ],
   "source": [
    "len(set(ethnicity_words))"
   ]
  },
  {
   "cell_type": "code",
   "execution_count": 27,
   "metadata": {},
   "outputs": [],
   "source": [
    "filters = \"language%3Deng%7Cabout_nationality%3D1\"\n",
    "with urllib.request.urlopen(\"http://api.hatebase.org/v3-0/\" + api_key + \"/vocabulary/json/\" + filters) as response:\n",
    "    html = response.read()\n",
    "data_nationality = json.loads(html.decode('utf-8'))"
   ]
  },
  {
   "cell_type": "code",
   "execution_count": 28,
   "metadata": {},
   "outputs": [],
   "source": [
    "filters = \"language%3Deng%7Cabout_gender%3D1\"\n",
    "with urllib.request.urlopen(\"http://api.hatebase.org/v3-0/\" + api_key + \"/vocabulary/json/\" + filters) as response:\n",
    "    html = response.read()\n",
    "data_gender = json.loads(html.decode('utf-8'))"
   ]
  },
  {
   "cell_type": "code",
   "execution_count": 29,
   "metadata": {},
   "outputs": [],
   "source": [
    "filters = \"language%3Deng%7Cabout_sexual_orientation%3D1\"\n",
    "with urllib.request.urlopen(\"http://api.hatebase.org/v3-0/\" + api_key + \"/vocabulary/json/\" + filters) as response:\n",
    "    html = response.read()\n",
    "data_sexual_orientation = json.loads(html.decode('utf-8'))"
   ]
  },
  {
   "cell_type": "code",
   "execution_count": 30,
   "metadata": {},
   "outputs": [],
   "source": [
    "filters = \"language%3Deng%7Cabout_class%3D1\"\n",
    "with urllib.request.urlopen(\"http://api.hatebase.org/v3-0/\" + api_key + \"/vocabulary/json/\" + filters) as response:\n",
    "    html = response.read()\n",
    "data_class = json.loads(html.decode('utf-8'))"
   ]
  },
  {
   "cell_type": "code",
   "execution_count": 31,
   "metadata": {},
   "outputs": [],
   "source": [
    "filters = \"language%3Deng%7Cabout_religion%3D1\"\n",
    "with urllib.request.urlopen(\"http://api.hatebase.org/v3-0/\" + api_key + \"/vocabulary/json/\" + filters) as response:\n",
    "    html = response.read()\n",
    "data_religion = json.loads(html.decode('utf-8'))"
   ]
  }
 ],
 "metadata": {
  "kernelspec": {
   "display_name": "Python 3",
   "language": "python",
   "name": "python3"
  },
  "language_info": {
   "codemirror_mode": {
    "name": "ipython",
    "version": 3
   },
   "file_extension": ".py",
   "mimetype": "text/x-python",
   "name": "python",
   "nbconvert_exporter": "python",
   "pygments_lexer": "ipython3",
   "version": "3.5.2"
  }
 },
 "nbformat": 4,
 "nbformat_minor": 2
}
