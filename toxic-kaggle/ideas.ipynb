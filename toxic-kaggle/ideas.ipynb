{
 "cells": [
  {
   "cell_type": "markdown",
   "metadata": {},
   "source": [
    "Extract additional feautures - Kate:\n",
    "1. swear words count\n",
    "2. sentiment (Vader)\n",
    "3. word embeddings - glove/word2vec\n",
    "\n",
    "Discuss on 17.02:\n",
    "* class imbalance problems - what to do? \n",
    "\n",
    "Write code parts:\n",
    "* cross-validation - Kate\n",
    "* split into validation/train - Kate\n",
    "* grid search over parameters in sklearn - Kate\n",
    "\n",
    "Try approaches:\n",
    "* logistic regression - Jane http://scikit-learn.org/stable/modules/generated/sklearn.linear_model.LogisticRegression.html\n",
    "* naive bayes - Jane http://scikit-learn.org/stable/modules/generated/sklearn.naive_bayes.MultinomialNB.html#sklearn.naive_bayes.MultinomialNB \n",
    "* SVM - Jane http://scikit-learn.org/stable/modules/generated/sklearn.svm.SVC.html#sklearn.svm.SVC \n",
    "* CNN - Hannes\n",
    "* LSTM - Kate\n",
    "\n",
    "Two ways of classification:\n",
    "First classify into overall-toxic (true if belongs to any toxic category) or not, then into subclasses of toxic\n",
    "\n",
    "OR\n",
    "\n",
    "train a binary classifier for each (sub)class"
   ]
  }
 ],
 "metadata": {
  "kernelspec": {
   "display_name": "Python 3",
   "language": "python",
   "name": "python3"
  },
  "language_info": {
   "codemirror_mode": {
    "name": "ipython",
    "version": 3
   },
   "file_extension": ".py",
   "mimetype": "text/x-python",
   "name": "python",
   "nbconvert_exporter": "python",
   "pygments_lexer": "ipython3",
   "version": "3.5.2"
  }
 },
 "nbformat": 4,
 "nbformat_minor": 2
}
